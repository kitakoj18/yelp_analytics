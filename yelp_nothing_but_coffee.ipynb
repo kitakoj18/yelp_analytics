{
 "cells": [
  {
   "cell_type": "code",
   "execution_count": 2,
   "metadata": {},
   "outputs": [],
   "source": [
    "import numpy as np\n",
    "import pandas as pd\n",
    "\n",
    "import re\n",
    "import spacy\n",
    "from spacy.tokens import Token\n",
    "from spacy.matcher import Matcher\n",
    "\n",
    "import pickle"
   ]
  },
  {
   "cell_type": "code",
   "execution_count": 3,
   "metadata": {},
   "outputs": [],
   "source": [
    "with open('df_nbc.pickle', 'rb') as handle:\n",
    "    df_nbc = pickle.load(handle)"
   ]
  },
  {
   "cell_type": "code",
   "execution_count": 4,
   "metadata": {},
   "outputs": [
    {
     "data": {
      "text/html": [
       "<div>\n",
       "<style scoped>\n",
       "    .dataframe tbody tr th:only-of-type {\n",
       "        vertical-align: middle;\n",
       "    }\n",
       "\n",
       "    .dataframe tbody tr th {\n",
       "        vertical-align: top;\n",
       "    }\n",
       "\n",
       "    .dataframe thead th {\n",
       "        text-align: right;\n",
       "    }\n",
       "</style>\n",
       "<table border=\"1\" class=\"dataframe\">\n",
       "  <thead>\n",
       "    <tr style=\"text-align: right;\">\n",
       "      <th></th>\n",
       "      <th>review_dates</th>\n",
       "      <th>review_ratings</th>\n",
       "      <th>reviews</th>\n",
       "    </tr>\n",
       "  </thead>\n",
       "  <tbody>\n",
       "    <tr>\n",
       "      <th>0</th>\n",
       "      <td>2020-02-15</td>\n",
       "      <td>5.0</td>\n",
       "      <td>Cute place to study  ! They have individuals t...</td>\n",
       "    </tr>\n",
       "    <tr>\n",
       "      <th>1</th>\n",
       "      <td>2020-03-04</td>\n",
       "      <td>4.0</td>\n",
       "      <td>Love the rose croissant here, and the drinks a...</td>\n",
       "    </tr>\n",
       "    <tr>\n",
       "      <th>2</th>\n",
       "      <td>2020-03-03</td>\n",
       "      <td>4.0</td>\n",
       "      <td>Time* Around 5pm on a Tuesday. \\n\\nWait* None....</td>\n",
       "    </tr>\n",
       "    <tr>\n",
       "      <th>3</th>\n",
       "      <td>2020-02-28</td>\n",
       "      <td>4.0</td>\n",
       "      <td>Okay, you know how there are a million artisan...</td>\n",
       "    </tr>\n",
       "    <tr>\n",
       "      <th>4</th>\n",
       "      <td>2020-01-18</td>\n",
       "      <td>5.0</td>\n",
       "      <td>Everything but the parking situation is great ...</td>\n",
       "    </tr>\n",
       "  </tbody>\n",
       "</table>\n",
       "</div>"
      ],
      "text/plain": [
       "  review_dates review_ratings  \\\n",
       "0   2020-02-15            5.0   \n",
       "1   2020-03-04            4.0   \n",
       "2   2020-03-03            4.0   \n",
       "3   2020-02-28            4.0   \n",
       "4   2020-01-18            5.0   \n",
       "\n",
       "                                             reviews  \n",
       "0  Cute place to study  ! They have individuals t...  \n",
       "1  Love the rose croissant here, and the drinks a...  \n",
       "2  Time* Around 5pm on a Tuesday. \\n\\nWait* None....  \n",
       "3  Okay, you know how there are a million artisan...  \n",
       "4  Everything but the parking situation is great ...  "
      ]
     },
     "execution_count": 4,
     "metadata": {},
     "output_type": "execute_result"
    }
   ],
   "source": [
    "df_nbc.head()"
   ]
  },
  {
   "cell_type": "code",
   "execution_count": 11,
   "metadata": {},
   "outputs": [],
   "source": [
    "nlp = spacy.load('en_core_web_md')"
   ]
  },
  {
   "cell_type": "code",
   "execution_count": 12,
   "metadata": {},
   "outputs": [
    {
     "data": {
      "text/plain": [
       "12"
      ]
     },
     "execution_count": 12,
     "metadata": {},
     "output_type": "execute_result"
    }
   ],
   "source": [
    "# include with medium library - for some reason is_stop does not work without it\n",
    "nlp.vocab.add_flag(lambda s: s.lower() in spacy.lang.en.stop_words.STOP_WORDS, spacy.attrs.IS_STOP)"
   ]
  },
  {
   "cell_type": "code",
   "execution_count": 5,
   "metadata": {},
   "outputs": [],
   "source": [
    "# products on their menu\n",
    "products = ['espresso', 'latte', 'americano', 'cappucino', 'cortado', 'matcha', 'tea', 'chai', \n",
    "            'lemonade', 'ade', 'salad', 'toast', 'sandwich']\n",
    "\n",
    "# add products to be custom token attribute to be able to recognize in rule based matching\n",
    "is_product_getter = lambda token: token.test in products\n",
    "Token.set_extension('is_product', getter=is_product_getter)"
   ]
  },
  {
   "cell_type": "markdown",
   "metadata": {},
   "source": [
    "By identifying patterns in our descriptions, we get a clearer idea on what these descriptions are. In the modeling below, we then further identify groups of these patterns that are commonly talked about together in the reviews. "
   ]
  },
  {
   "cell_type": "code",
   "execution_count": 179,
   "metadata": {},
   "outputs": [],
   "source": [
    "# latte is (very) delicious\n",
    "p_something_is = [{\"POS\": \"NOUN\"}, {\"POS\": \"VERB\"}, {\"POS\": \"ADV\", \"OP\": \"?\"},\n",
    "           {\"POS\": \"ADJ\"}]\n",
    "\n",
    "# (suitable) environment for studying\n",
    "p_something_for = [{\"POS\": \"ADJ\", \"OP\": \"?\"}, {\"POS\": \"NOUN\"}, {\"POS\": \"ADP\"}, {\"POS\": \"VERB\"}]\n",
    "\n",
    "# terrible customer (service)\n",
    "p_desc = [{\"POS\": \"ADJ\"}, {\"POS\": \"NOUN\"}, {\"POS\": \"NOUN\", \"OP\": \"?\"}]\n",
    "\n",
    "# parking in (the) back / lots of plugs\n",
    "p_something_of = [{\"POS\": \"NOUN\"}, {\"POS\": \"ADP\"}, {\"POS\": \"DET\", \"OP\": \"?\"}, {\"POS\": \"NOUN\"}]\n",
    "\n",
    "# layout has seats\n",
    "p_something_has = [{\"POS\": \"NOUN\"}, {\"POS\": \"VERB\"}, {\"POS\": \"NOUN\"}]"
   ]
  },
  {
   "cell_type": "code",
   "execution_count": 176,
   "metadata": {},
   "outputs": [],
   "source": [
    "patterns = {'something_is': p_something_is,  'something_for': p_something_for, 'desc': p_desc, \n",
    "            'something_of': p_something_of, 'something_has': p_something_has}"
   ]
  },
  {
   "cell_type": "code",
   "execution_count": 177,
   "metadata": {},
   "outputs": [],
   "source": [
    "matcher = Matcher(nlp.vocab)\n",
    "for key in patterns.keys():\n",
    "    matcher.add(key, None, patterns[key])"
   ]
  },
  {
   "cell_type": "markdown",
   "metadata": {},
   "source": [
    "Below I am trying to capture statements that are more descriptive that we can use as inputs into the topic model. However, notice that for descriptions that are longer than 2 words, now that I've captured the descriptions, I can probably condense them into two words (the first and the last) without losing too much meaning. For example, \"parking in the back\" - I don't need this entire statement, or n-gram, to be included in the dataset. Instead, I can condense to the bigram, \"parking back\" and still understand that this person is describing parking that's in the back. "
   ]
  },
  {
   "cell_type": "code",
   "execution_count": 178,
   "metadata": {},
   "outputs": [
    {
     "name": "stdout",
     "output_type": "stream",
     "text": [
      "Cute place\n",
      "table for studying\n",
      "lots of plugs\n",
      "parking in the back\n",
      "back behind the store\n",
      "more selection\n",
      "selection of food\n",
      "green tea\n",
      "macchiato is amazing\n",
      "level is minimal\n",
      "suitable environment\n",
      "suitable environment for studying\n",
      "environment for studying\n",
      "great experience\n"
     ]
    }
   ],
   "source": [
    "matches = matcher(review_doc)\n",
    "for _, start, end in matches:\n",
    "    print(review_doc[start:end])"
   ]
  },
  {
   "cell_type": "code",
   "execution_count": 9,
   "metadata": {},
   "outputs": [],
   "source": [
    "def text_preprocess(string):\n",
    "    \n",
    "    string = string.strip()\n",
    "    string = string.lower()\n",
    "    string = re.sub('\\n', '', string)\n",
    "    string = re.sub('[!#?,.:\";]', '', string)\n",
    "    \n",
    "    return string\n",
    "\n",
    "def create_word_vector(review, matcher, include_all=False):\n",
    "    \n",
    "    review = text_preprocess(review)\n",
    "    review_doc = nlp(review)\n",
    "    \n",
    "    tokens = set()\n",
    "    \n",
    "    matches = matcher(review_doc)\n",
    "    for _, beg, end in matches:\n",
    "        \n",
    "        # get lemma form of first word in match\n",
    "        first_word = review_doc[beg].lemma_\n",
    "        # get lemma form of last word in match\n",
    "        last_word = review_doc[end-1].lemma_\n",
    "        \n",
    "        # don't include anything with pronouns\n",
    "        # might change later\n",
    "        if first_word == '-PRON-'or last_word == '-PRON-':\n",
    "            continue\n",
    "        \n",
    "        # assign first and last word alphabetically with min/max funcs\n",
    "        # e.g. we don't want both ('cute', 'place') and ('place', 'cute') in dataset, just one of them\n",
    "        word1 = min(first_word, last_word)\n",
    "        word2 = max(first_word, last_word)\n",
    "        \n",
    "        # add pair to tokens set\n",
    "        tokens.add((word1, word2))\n",
    "        \n",
    "    # if we want to include all tokens in set    \n",
    "    if include_all:\n",
    "        for token in review_doc:\n",
    "            if not token.is_stop and not token.lemma_.isspace():\n",
    "                tokens.add((token.lemma_,))\n",
    "                \n",
    "    return list(tokens)"
   ]
  },
  {
   "cell_type": "code",
   "execution_count": 93,
   "metadata": {},
   "outputs": [],
   "source": [
    "df_nbc['ngrams'] = df_nbc['reviews'].apply(create_word_vector)"
   ]
  },
  {
   "cell_type": "code",
   "execution_count": 94,
   "metadata": {},
   "outputs": [
    {
     "data": {
      "text/html": [
       "<div>\n",
       "<style scoped>\n",
       "    .dataframe tbody tr th:only-of-type {\n",
       "        vertical-align: middle;\n",
       "    }\n",
       "\n",
       "    .dataframe tbody tr th {\n",
       "        vertical-align: top;\n",
       "    }\n",
       "\n",
       "    .dataframe thead th {\n",
       "        text-align: right;\n",
       "    }\n",
       "</style>\n",
       "<table border=\"1\" class=\"dataframe\">\n",
       "  <thead>\n",
       "    <tr style=\"text-align: right;\">\n",
       "      <th></th>\n",
       "      <th>review_dates</th>\n",
       "      <th>review_ratings</th>\n",
       "      <th>reviews</th>\n",
       "      <th>ngrams</th>\n",
       "    </tr>\n",
       "  </thead>\n",
       "  <tbody>\n",
       "    <tr>\n",
       "      <th>0</th>\n",
       "      <td>2020-02-15</td>\n",
       "      <td>5.0</td>\n",
       "      <td>Cute place to study  ! They have individuals t...</td>\n",
       "      <td>[(level, minimal), (experience, great), (lot, ...</td>\n",
       "    </tr>\n",
       "    <tr>\n",
       "      <th>1</th>\n",
       "      <td>2020-03-04</td>\n",
       "      <td>4.0</td>\n",
       "      <td>Love the rose croissant here, and the drinks a...</td>\n",
       "      <td>[(high, note), (delicious, drink), (key, vibe)...</td>\n",
       "    </tr>\n",
       "    <tr>\n",
       "      <th>2</th>\n",
       "      <td>2020-03-03</td>\n",
       "      <td>4.0</td>\n",
       "      <td>Time* Around 5pm on a Tuesday. \\n\\nWait* None....</td>\n",
       "      <td>[(cup, handle), (charcoal, surprise), (interio...</td>\n",
       "    </tr>\n",
       "    <tr>\n",
       "      <th>3</th>\n",
       "      <td>2020-02-28</td>\n",
       "      <td>4.0</td>\n",
       "      <td>Okay, you know how there are a million artisan...</td>\n",
       "      <td>[(only, worker), (menu, scarce), (coffee, fanc...</td>\n",
       "    </tr>\n",
       "    <tr>\n",
       "      <th>4</th>\n",
       "      <td>2020-01-18</td>\n",
       "      <td>5.0</td>\n",
       "      <td>Everything but the parking situation is great ...</td>\n",
       "      <td>[(koreatown, shop), (latte, spanish), (drink, ...</td>\n",
       "    </tr>\n",
       "  </tbody>\n",
       "</table>\n",
       "</div>"
      ],
      "text/plain": [
       "  review_dates review_ratings  \\\n",
       "0   2020-02-15            5.0   \n",
       "1   2020-03-04            4.0   \n",
       "2   2020-03-03            4.0   \n",
       "3   2020-02-28            4.0   \n",
       "4   2020-01-18            5.0   \n",
       "\n",
       "                                             reviews  \\\n",
       "0  Cute place to study  ! They have individuals t...   \n",
       "1  Love the rose croissant here, and the drinks a...   \n",
       "2  Time* Around 5pm on a Tuesday. \\n\\nWait* None....   \n",
       "3  Okay, you know how there are a million artisan...   \n",
       "4  Everything but the parking situation is great ...   \n",
       "\n",
       "                                              ngrams  \n",
       "0  [(level, minimal), (experience, great), (lot, ...  \n",
       "1  [(high, note), (delicious, drink), (key, vibe)...  \n",
       "2  [(cup, handle), (charcoal, surprise), (interio...  \n",
       "3  [(only, worker), (menu, scarce), (coffee, fanc...  \n",
       "4  [(koreatown, shop), (latte, spanish), (drink, ...  "
      ]
     },
     "execution_count": 94,
     "metadata": {},
     "output_type": "execute_result"
    }
   ],
   "source": [
    "df_nbc.head()"
   ]
  },
  {
   "cell_type": "code",
   "execution_count": 152,
   "metadata": {},
   "outputs": [],
   "source": [
    "# create column with all tokens, not just extracted statements\n",
    "token_list = [create_word_vector(review, matcher, True) for review in df_nbc['reviews']]"
   ]
  },
  {
   "cell_type": "code",
   "execution_count": 153,
   "metadata": {},
   "outputs": [],
   "source": [
    "df_nbc['tokens'] = np.array(token_list)"
   ]
  },
  {
   "cell_type": "code",
   "execution_count": 154,
   "metadata": {},
   "outputs": [
    {
     "data": {
      "text/html": [
       "<div>\n",
       "<style scoped>\n",
       "    .dataframe tbody tr th:only-of-type {\n",
       "        vertical-align: middle;\n",
       "    }\n",
       "\n",
       "    .dataframe tbody tr th {\n",
       "        vertical-align: top;\n",
       "    }\n",
       "\n",
       "    .dataframe thead th {\n",
       "        text-align: right;\n",
       "    }\n",
       "</style>\n",
       "<table border=\"1\" class=\"dataframe\">\n",
       "  <thead>\n",
       "    <tr style=\"text-align: right;\">\n",
       "      <th></th>\n",
       "      <th>review_dates</th>\n",
       "      <th>review_ratings</th>\n",
       "      <th>reviews</th>\n",
       "      <th>ngrams</th>\n",
       "      <th>tokens</th>\n",
       "    </tr>\n",
       "  </thead>\n",
       "  <tbody>\n",
       "    <tr>\n",
       "      <th>0</th>\n",
       "      <td>2020-02-15</td>\n",
       "      <td>5.0</td>\n",
       "      <td>Cute place to study  ! They have individuals t...</td>\n",
       "      <td>[(level, minimal), (experience, great), (lot, ...</td>\n",
       "      <td>[(make,), (lot, plug), (study, table), (noise,...</td>\n",
       "    </tr>\n",
       "    <tr>\n",
       "      <th>1</th>\n",
       "      <td>2020-03-04</td>\n",
       "      <td>4.0</td>\n",
       "      <td>Love the rose croissant here, and the drinks a...</td>\n",
       "      <td>[(high, note), (delicious, drink), (key, vibe)...</td>\n",
       "      <td>[(croissant,), (lemonade,), (blue,), (dark, fl...</td>\n",
       "    </tr>\n",
       "    <tr>\n",
       "      <th>2</th>\n",
       "      <td>2020-03-03</td>\n",
       "      <td>4.0</td>\n",
       "      <td>Time* Around 5pm on a Tuesday. \\n\\nWait* None....</td>\n",
       "      <td>[(cup, handle), (charcoal, surprise), (interio...</td>\n",
       "      <td>[($,), (cup, handle), (wilshire,), (smooth, te...</td>\n",
       "    </tr>\n",
       "    <tr>\n",
       "      <th>3</th>\n",
       "      <td>2020-02-28</td>\n",
       "      <td>4.0</td>\n",
       "      <td>Okay, you know how there are a million artisan...</td>\n",
       "      <td>[(only, worker), (menu, scarce), (coffee, fanc...</td>\n",
       "      <td>[(menu, scarce), (okay,), (coffee, fancé), (tu...</td>\n",
       "    </tr>\n",
       "    <tr>\n",
       "      <th>4</th>\n",
       "      <td>2020-01-18</td>\n",
       "      <td>5.0</td>\n",
       "      <td>Everything but the parking situation is great ...</td>\n",
       "      <td>[(koreatown, shop), (latte, spanish), (drink, ...</td>\n",
       "      <td>[(reasonably,), (latte, spanish), (downside,),...</td>\n",
       "    </tr>\n",
       "  </tbody>\n",
       "</table>\n",
       "</div>"
      ],
      "text/plain": [
       "  review_dates review_ratings  \\\n",
       "0   2020-02-15            5.0   \n",
       "1   2020-03-04            4.0   \n",
       "2   2020-03-03            4.0   \n",
       "3   2020-02-28            4.0   \n",
       "4   2020-01-18            5.0   \n",
       "\n",
       "                                             reviews  \\\n",
       "0  Cute place to study  ! They have individuals t...   \n",
       "1  Love the rose croissant here, and the drinks a...   \n",
       "2  Time* Around 5pm on a Tuesday. \\n\\nWait* None....   \n",
       "3  Okay, you know how there are a million artisan...   \n",
       "4  Everything but the parking situation is great ...   \n",
       "\n",
       "                                              ngrams  \\\n",
       "0  [(level, minimal), (experience, great), (lot, ...   \n",
       "1  [(high, note), (delicious, drink), (key, vibe)...   \n",
       "2  [(cup, handle), (charcoal, surprise), (interio...   \n",
       "3  [(only, worker), (menu, scarce), (coffee, fanc...   \n",
       "4  [(koreatown, shop), (latte, spanish), (drink, ...   \n",
       "\n",
       "                                              tokens  \n",
       "0  [(make,), (lot, plug), (study, table), (noise,...  \n",
       "1  [(croissant,), (lemonade,), (blue,), (dark, fl...  \n",
       "2  [($,), (cup, handle), (wilshire,), (smooth, te...  \n",
       "3  [(menu, scarce), (okay,), (coffee, fancé), (tu...  \n",
       "4  [(reasonably,), (latte, spanish), (downside,),...  "
      ]
     },
     "execution_count": 154,
     "metadata": {},
     "output_type": "execute_result"
    }
   ],
   "source": [
    "df_nbc.head()"
   ]
  },
  {
   "cell_type": "code",
   "execution_count": 155,
   "metadata": {},
   "outputs": [
    {
     "data": {
      "text/plain": [
       "[('make',),\n",
       " ('lot', 'plug'),\n",
       " ('study', 'table'),\n",
       " ('noise',),\n",
       " ('lot',),\n",
       " ('minimal',),\n",
       " ('environment', 'suitable'),\n",
       " ('small',),\n",
       " ('group', 'overall'),\n",
       " ('studyingthe',),\n",
       " ('wish',),\n",
       " ('level', 'minimal'),\n",
       " ('cute',),\n",
       " ('overall',),\n",
       " ('parking',),\n",
       " ('be',),\n",
       " ('study',),\n",
       " ('loud',),\n",
       " ('not',),\n",
       " ('table',),\n",
       " ('back', 'parking'),\n",
       " ('suitable',),\n",
       " ('level',),\n",
       " ('plug',),\n",
       " ('food',),\n",
       " ('storehowever',),\n",
       " ('experience',),\n",
       " ('experience', 'great'),\n",
       " ('little',),\n",
       " ('more', 'selection'),\n",
       " ('place',),\n",
       " ('amazing', 'macchiato'),\n",
       " ('green',),\n",
       " ('green', 'tea'),\n",
       " ('environment', 'table'),\n",
       " ('great',),\n",
       " ('environment',),\n",
       " (')',),\n",
       " ('tea',),\n",
       " ('recommend',),\n",
       " ('individual',),\n",
       " ('food', 'selection'),\n",
       " ('selection',),\n",
       " ('group',),\n",
       " ('amazing',),\n",
       " ('cute', 'place'),\n",
       " ('back', 'storehowever'),\n",
       " ('macchiato',)]"
      ]
     },
     "execution_count": 155,
     "metadata": {},
     "output_type": "execute_result"
    }
   ],
   "source": [
    "df_nbc['tokens'][0]"
   ]
  },
  {
   "cell_type": "code",
   "execution_count": 63,
   "metadata": {},
   "outputs": [
    {
     "data": {
      "text/plain": [
       "[('level', 'minimal'),\n",
       " ('experience', 'great'),\n",
       " ('lot', 'plug'),\n",
       " ('study', 'table'),\n",
       " ('food', 'selection'),\n",
       " ('back', 'parking'),\n",
       " ('environment', 'suitable'),\n",
       " ('more', 'selection'),\n",
       " ('amazing', 'macchiato'),\n",
       " ('cute', 'place'),\n",
       " ('green', 'tea'),\n",
       " ('environment', 'table')]"
      ]
     },
     "execution_count": 63,
     "metadata": {},
     "output_type": "execute_result"
    }
   ],
   "source": [
    "df_nbc['ngrams'][0]"
   ]
  },
  {
   "cell_type": "code",
   "execution_count": 95,
   "metadata": {},
   "outputs": [
    {
     "data": {
      "text/plain": [
       "[('drink', 'other'),\n",
       " ('cool', 'interior'),\n",
       " ('good', 'spot'),\n",
       " ('layout', 'seat'),\n",
       " ('barista', 'nice'),\n",
       " ('attention', 'what'),\n",
       " ('attention', 'much'),\n",
       " ('basic', 'drink')]"
      ]
     },
     "execution_count": 95,
     "metadata": {},
     "output_type": "execute_result"
    }
   ],
   "source": [
    "df_nbc['ngrams'][18]"
   ]
  },
  {
   "cell_type": "code",
   "execution_count": 80,
   "metadata": {},
   "outputs": [
    {
     "data": {
      "text/plain": [
       "\"I like to judge a coffee shop by some of their most basic drinks - drip coffee, an americano, etc. and the ice americano I ordered did not disappoint. It was smooth and not too acidic, just how I like it. I didn't pay too much attention to what their menu has to offer as I had my dog with me (which I'm not entirely sure if they allows dogs - their Yelp page says yes but they didn't have any signs up. However, the barista was super nice and he was ok with my pup being there). \\n\\nThe interior was pretty cool - their layout had seats that would be a good spot to bring your friends and hang out. I'd definitely come here again to try some of their other drinks and snacks.\""
      ]
     },
     "execution_count": 80,
     "metadata": {},
     "output_type": "execute_result"
    }
   ],
   "source": [
    "df_nbc['reviews'][18]"
   ]
  },
  {
   "cell_type": "markdown",
   "metadata": {},
   "source": [
    "## Modeling - LDA"
   ]
  },
  {
   "cell_type": "code",
   "execution_count": 135,
   "metadata": {},
   "outputs": [],
   "source": [
    "from sklearn.feature_extraction.text import CountVectorizer\n",
    "X = df_nbc['ngrams']\n",
    "count_vec = CountVectorizer(analyzer=lambda x:x)\n",
    "X_train = count_vec.fit_transform(X)"
   ]
  },
  {
   "cell_type": "code",
   "execution_count": 99,
   "metadata": {},
   "outputs": [
    {
     "data": {
      "text/plain": [
       "<180x1110 sparse matrix of type '<class 'numpy.int64'>'\n",
       "\twith 1504 stored elements in Compressed Sparse Row format>"
      ]
     },
     "execution_count": 99,
     "metadata": {},
     "output_type": "execute_result"
    }
   ],
   "source": [
    "X_train"
   ]
  },
  {
   "cell_type": "code",
   "execution_count": 100,
   "metadata": {},
   "outputs": [],
   "source": [
    "from sklearn.decomposition import LatentDirichletAllocation"
   ]
  },
  {
   "cell_type": "code",
   "execution_count": 139,
   "metadata": {},
   "outputs": [],
   "source": [
    "LDA = LatentDirichletAllocation(n_components=5, random_state=42)"
   ]
  },
  {
   "cell_type": "code",
   "execution_count": 140,
   "metadata": {},
   "outputs": [
    {
     "data": {
      "text/plain": [
       "LatentDirichletAllocation(batch_size=128, doc_topic_prior=None,\n",
       "             evaluate_every=-1, learning_decay=0.7,\n",
       "             learning_method='batch', learning_offset=10.0,\n",
       "             max_doc_update_iter=100, max_iter=10, mean_change_tol=0.001,\n",
       "             n_components=5, n_jobs=None, n_topics=None, perp_tol=0.1,\n",
       "             random_state=42, topic_word_prior=None,\n",
       "             total_samples=1000000.0, verbose=0)"
      ]
     },
     "execution_count": 140,
     "metadata": {},
     "output_type": "execute_result"
    }
   ],
   "source": [
    "LDA.fit(X_train)"
   ]
  },
  {
   "cell_type": "markdown",
   "metadata": {},
   "source": [
    "## Some notes...\n",
    "\n",
    "Topic modeling involves identifying topics that are latent in the text that contain them. LDA assumes that a corpus is generated by a topic, which is generated by words belonging to that topic. However, with reviews, this might be an incorrect assumption to make because a reviewer might not stick to a certain theme. The review might convey a positive or negative tone but I would say it isn't always the case that a reviewer sticks to talking only about one or two things in a review. They might talk about the quality of the products, the service, the ambiance of the store i.e. a wide range of topics. Therefore, we might not find a particular theme in each of the LDA components, but more of things that are commonly said together in comments. Something to try out later is applying this with kMeans.\n",
    "\n",
    "I think it might be meaningful to be able to identify reviews that contain mentions of specific products and see what these reviews are saying about that product. Extract the entire review this mention is in but also take the specific sentences talking about the product and do a sentiment analysis to see if they're generally positive or negative."
   ]
  },
  {
   "cell_type": "code",
   "execution_count": 141,
   "metadata": {},
   "outputs": [
    {
     "name": "stdout",
     "output_type": "stream",
     "text": [
      "Top 15 words/phrases for topic #0\n",
      "[('number', 'outlet'), ('first', 'time'), ('small', 'table'), ('k', 'shop'), ('friendly', 'staff'), ('front', 'parking'), ('free', 'parking'), ('coffee', 'great'), ('back', 'lot'), ('lot', 'people'), ('good', 'service'), ('good', 'place'), ('drink', 'good'), ('great', 'place'), ('coffee', 'good')]\n",
      "\n",
      "\n",
      "Top 15 words/phrases for topic #1\n",
      "[('environment', 'great'), ('nice', 'place'), ('hour', 'late'), ('back', 'lot'), ('price', 'reasonable'), ('decor', 'minimal'), ('coffee', 'cup'), ('iced', 'latte'), ('coffee', 'nothing'), ('small', 'table'), ('cup', 'free'), ('ktown', 'shop'), ('barista', 'nice'), ('coffee', 'late'), ('coffee', 'great')]\n",
      "\n",
      "\n",
      "Top 15 words/phrases for topic #2\n",
      "[('coffee', 'nothing'), ('great', 'place'), ('favorite', 'spot'), ('instrumental', 'music'), ('menu', 'minimal'), ('drink', 'other'), ('good', 'spot'), ('friendly', 'staff'), ('side', 'sweet'), ('free', 'wifi'), ('cafe', 'cute'), ('lot', 'small'), ('lot', 'outlet'), ('back', 'lot'), ('coffee', 'good')]\n",
      "\n",
      "\n",
      "Top 15 words/phrases for topic #3\n",
      "[('great', 'shop'), ('drink', 'good'), ('place', 'study'), ('good', 'latte'), ('late', 'night'), ('plenty', 'table'), ('fast', 'wifi'), ('next', 'time'), ('downside', 'only'), ('friendly', 'staff'), ('lot', 'small'), ('back', 'parking'), ('coffee', 'nothing'), ('perfect', 'place'), ('great', 'place')]\n",
      "\n",
      "\n",
      "Top 15 words/phrases for topic #4\n",
      "[('fast', 'wifi'), ('coffee', 'quality'), ('nice', 'spot'), ('cafe', 'ktown'), ('good', 'latte'), ('free', 'parking'), ('free', 'wifi'), ('coffee', 'cup'), ('great', 'shop'), ('shop', 'small'), ('brew', 'cold'), ('back', 'parking'), ('good', 'place'), ('coffee', 'nothing'), ('coffee', 'good')]\n",
      "\n",
      "\n"
     ]
    }
   ],
   "source": [
    "for i, topic in enumerate(LDA.components_):\n",
    "    print(f'Top 15 words/phrases for topic #{i}')\n",
    "    print([count_vec.get_feature_names()[i] for i in topic.argsort()[-15:]])\n",
    "    print('\\n')"
   ]
  },
  {
   "cell_type": "code",
   "execution_count": 160,
   "metadata": {},
   "outputs": [],
   "source": [
    "topic_results = LDA.transform(X_train)\n",
    "df_nbc['topic_statements'] = topic_results.argmax(axis=1)"
   ]
  },
  {
   "cell_type": "code",
   "execution_count": 161,
   "metadata": {},
   "outputs": [
    {
     "data": {
      "text/html": [
       "<div>\n",
       "<style scoped>\n",
       "    .dataframe tbody tr th:only-of-type {\n",
       "        vertical-align: middle;\n",
       "    }\n",
       "\n",
       "    .dataframe tbody tr th {\n",
       "        vertical-align: top;\n",
       "    }\n",
       "\n",
       "    .dataframe thead th {\n",
       "        text-align: right;\n",
       "    }\n",
       "</style>\n",
       "<table border=\"1\" class=\"dataframe\">\n",
       "  <thead>\n",
       "    <tr style=\"text-align: right;\">\n",
       "      <th></th>\n",
       "      <th>review_dates</th>\n",
       "      <th>review_ratings</th>\n",
       "      <th>reviews</th>\n",
       "      <th>ngrams</th>\n",
       "      <th>tokens</th>\n",
       "      <th>topic_statements</th>\n",
       "    </tr>\n",
       "  </thead>\n",
       "  <tbody>\n",
       "    <tr>\n",
       "      <th>0</th>\n",
       "      <td>2020-02-15</td>\n",
       "      <td>5.0</td>\n",
       "      <td>Cute place to study  ! They have individuals t...</td>\n",
       "      <td>[(level, minimal), (experience, great), (lot, ...</td>\n",
       "      <td>[(make,), (lot, plug), (study, table), (noise,...</td>\n",
       "      <td>3</td>\n",
       "    </tr>\n",
       "    <tr>\n",
       "      <th>1</th>\n",
       "      <td>2020-03-04</td>\n",
       "      <td>4.0</td>\n",
       "      <td>Love the rose croissant here, and the drinks a...</td>\n",
       "      <td>[(high, note), (delicious, drink), (key, vibe)...</td>\n",
       "      <td>[(croissant,), (lemonade,), (blue,), (dark, fl...</td>\n",
       "      <td>1</td>\n",
       "    </tr>\n",
       "    <tr>\n",
       "      <th>2</th>\n",
       "      <td>2020-03-03</td>\n",
       "      <td>4.0</td>\n",
       "      <td>Time* Around 5pm on a Tuesday. \\n\\nWait* None....</td>\n",
       "      <td>[(cup, handle), (charcoal, surprise), (interio...</td>\n",
       "      <td>[($,), (cup, handle), (wilshire,), (smooth, te...</td>\n",
       "      <td>3</td>\n",
       "    </tr>\n",
       "    <tr>\n",
       "      <th>3</th>\n",
       "      <td>2020-02-28</td>\n",
       "      <td>4.0</td>\n",
       "      <td>Okay, you know how there are a million artisan...</td>\n",
       "      <td>[(only, worker), (menu, scarce), (coffee, fanc...</td>\n",
       "      <td>[(menu, scarce), (okay,), (coffee, fancé), (tu...</td>\n",
       "      <td>2</td>\n",
       "    </tr>\n",
       "    <tr>\n",
       "      <th>4</th>\n",
       "      <td>2020-01-18</td>\n",
       "      <td>5.0</td>\n",
       "      <td>Everything but the parking situation is great ...</td>\n",
       "      <td>[(koreatown, shop), (latte, spanish), (drink, ...</td>\n",
       "      <td>[(reasonably,), (latte, spanish), (downside,),...</td>\n",
       "      <td>4</td>\n",
       "    </tr>\n",
       "  </tbody>\n",
       "</table>\n",
       "</div>"
      ],
      "text/plain": [
       "  review_dates review_ratings  \\\n",
       "0   2020-02-15            5.0   \n",
       "1   2020-03-04            4.0   \n",
       "2   2020-03-03            4.0   \n",
       "3   2020-02-28            4.0   \n",
       "4   2020-01-18            5.0   \n",
       "\n",
       "                                             reviews  \\\n",
       "0  Cute place to study  ! They have individuals t...   \n",
       "1  Love the rose croissant here, and the drinks a...   \n",
       "2  Time* Around 5pm on a Tuesday. \\n\\nWait* None....   \n",
       "3  Okay, you know how there are a million artisan...   \n",
       "4  Everything but the parking situation is great ...   \n",
       "\n",
       "                                              ngrams  \\\n",
       "0  [(level, minimal), (experience, great), (lot, ...   \n",
       "1  [(high, note), (delicious, drink), (key, vibe)...   \n",
       "2  [(cup, handle), (charcoal, surprise), (interio...   \n",
       "3  [(only, worker), (menu, scarce), (coffee, fanc...   \n",
       "4  [(koreatown, shop), (latte, spanish), (drink, ...   \n",
       "\n",
       "                                              tokens  topic_statements  \n",
       "0  [(make,), (lot, plug), (study, table), (noise,...                 3  \n",
       "1  [(croissant,), (lemonade,), (blue,), (dark, fl...                 1  \n",
       "2  [($,), (cup, handle), (wilshire,), (smooth, te...                 3  \n",
       "3  [(menu, scarce), (okay,), (coffee, fancé), (tu...                 2  \n",
       "4  [(reasonably,), (latte, spanish), (downside,),...                 4  "
      ]
     },
     "execution_count": 161,
     "metadata": {},
     "output_type": "execute_result"
    }
   ],
   "source": [
    "df_nbc.head()"
   ]
  },
  {
   "cell_type": "code",
   "execution_count": 172,
   "metadata": {},
   "outputs": [
    {
     "data": {
      "text/plain": [
       "3    50\n",
       "4    39\n",
       "0    37\n",
       "2    30\n",
       "1    24\n",
       "Name: topic_statements, dtype: int64"
      ]
     },
     "execution_count": 172,
     "metadata": {},
     "output_type": "execute_result"
    }
   ],
   "source": [
    "df_nbc['topic_statements'].value_counts()"
   ]
  },
  {
   "cell_type": "markdown",
   "metadata": {},
   "source": [
    "## Some reviews belonging to each \"topic\"..."
   ]
  },
  {
   "cell_type": "code",
   "execution_count": 173,
   "metadata": {},
   "outputs": [],
   "source": [
    "from random import randint\n",
    "\n",
    "def print_reviews(df, topic_col, topic_num, n=5):\n",
    "    df_topic = df[df[topic_col] == topic_num]['reviews']\n",
    "    max_range = len(df_topic)\n",
    "    for i in range(n):\n",
    "        rand_num = randint(0, max_range)\n",
    "        print(rand_num)\n",
    "        print(df_topic.iloc[rand_num])\n",
    "        print('\\n')\n",
    "        print('------------------------------------------------------------------')"
   ]
  },
  {
   "cell_type": "code",
   "execution_count": 174,
   "metadata": {},
   "outputs": [
    {
     "name": "stdout",
     "output_type": "stream",
     "text": [
      "REVIEWS FOR TOPIC 0:\n",
      "\n",
      "\n",
      "21\n",
      "I think I'm in love with this place! The moment I walked in the first time, I felt as though the atmosphere was made for me. I don't want to describe the atmosphere as \"chill,\" but honestly, I cannot think of a better word. The decorations are minimal, the tables are minimal, even the employees seem minimal. this place is a minimalist's dream. The service was nice, everyone seemed so patient. Parking is a private lot in the back, but it's usually full. The music they play there is just quite enough for you to block it out if you want to. \n",
      "Honey truffle latte: YUM! The flavor of the truffle was perfectly done. Usually I don't enjoy truffle because the flavor is too dominant, but this cup of latte was great. I had a sip of this cold, and it just didn't do the truffle any justice compared to the hot. If you order this, definitely opt for the hot option.\n",
      "NBC latte: yum! Absolutely perfect amount of cinnamon in this! This is similar to a Spanish latte at Urth Caffe, but I definitely prefer the NBC. The flavors were more mild, but they melded together so much better than a Spanish latte. \n",
      "Blue blood orange lemonade: good but not great. This was WAY too sweet when I had it. I had to wait for the ice to melt, but after the ice melted, it tasted great! I don't necessarily remember tasting the actual blood orange, but the lemonade did taste really good, and it is very photo-worthy.\n",
      "I love the fact that is is open until 3AM and there is it's own parking lot. Since this is in Ktown, having it's own lot just makes me feel so much safer. Coffee is great here, not too strong, but not too mild. I love it!\n",
      "\n",
      "\n",
      "------------------------------------------------------------------\n",
      "30\n",
      "Best gluten free chocolate cake! The ice latte was perfect & the environment was comfortable.\n",
      "\n",
      "\n",
      "------------------------------------------------------------------\n",
      "34\n",
      "The service was wonderful! We were immediately greeted and they were so friendly. The decor and furniture is really nice. Perfect for those looking for an instagram worthy photo. The coffee was sooo good! I also had a waffle and at first was hesitant because they didn't give me syrup but the waffle was the perfect combo of sweet, warm, fluffiness. They gave my dog a bowl of water so he gives it 10 paws up! Definitely going to be my new Sunday morning spot!\n",
      "\n",
      "\n",
      "------------------------------------------------------------------\n",
      "17\n",
      "Great study space. This place is a hidden gem! The coffee is very good!! I recommend the NBC LATTE!! So so good. They serve their drinks in cool chemistry beaker which makes it kinda cool. \n",
      "\n",
      "The only thing is that since the place is so small, they are limited to small tables. Sometimes I just need a big table to lay out my stuff. It is definitely not good for groups. When I went 95% of the people inside were studying/doing-homework so it was a bit quiet in there. \n",
      "\n",
      "Overall, great coffee place. They have good flavored lattes, a rewards program, good wifi, and good AC. Definietly check it out!\n",
      "\n",
      "\n",
      "------------------------------------------------------------------\n",
      "18\n",
      "Absolutely love this café! Literally everyone here is studying sometimes there are people that come in who aren't studying and having conversations which could be a bit distracting but it's not often. When the music is off and everyone's it's amazing. Sometimes the music is on sometimes it's off. I prefer it off and the sounds of pages turning!\n",
      "\n",
      "\n",
      "------------------------------------------------------------------\n",
      "REVIEWS FOR TOPIC 1:\n",
      "\n",
      "\n",
      "1\n",
      "Great late night coffee shop to get work done!! Or to just come and get coffee too hahaha. But definitely not going to Mr. Coffee anymore unless I'm desperate. Mr. Coffee has way more tables than Nothing But Coffee, but the prices, vibes, and aesthetics are sooo much better here!!!  The prices here are in the middle range. $5 for a 16 oz cold brew. \n",
      "\n",
      "I love the cups here!!! Looks like beakers, and they're so cute. 5/5 for presentation. The interior design of the place is really nice and clean too. \n",
      "\n",
      "The service is alright. Nothing really stood out. \n",
      "The tables are small and few in number, so some people aren't able to find a spot. That's the iffy part about coming here. \n",
      "\n",
      "The cold brew was pretty good. Not too strong and doesn't taste like acetone.. lol\n",
      "\n",
      "Charcoal latte is interesting... I personally didn't like the taste a lot, and it makes your lips and teeth black. So if you like that kind of stuff then sure hahahah \n",
      "\n",
      "Ask for a stamp card! :)\n",
      "\n",
      "\n",
      "------------------------------------------------------------------\n",
      "10\n",
      "Love this cafe! The decor is minimal, but nothing too pretentious. The orchids are so beautiful. \n",
      "\n",
      "Parking is mehhh. There are about 8-9 (give or take) spaces in the back and there's only one entrance/exit off of Wilshire. I can imagine it to be a pain if you're trying to exit the lot while someone else is entering. \n",
      "\n",
      "The staff was great and offered their recommendations. I initially ordered the iced honey latte (really yummy and it comes in a glass beaker). A few hours later, I ordered the chrysanthemum tea. The baristas offered me a sample of it, which is well appreciated. \n",
      "\n",
      "Wifi was quick (password is \"surewhynot\" lol how cute), but I came at around 5pm on a Wednesday. However, there was only one other person in the cafe, so not sure how the wifi would hold up with more people using it. \n",
      "\n",
      "I didn't really dig the playlist (I started laughing to myself when \"Forever and Always\" by Taylor Swift started playing), but who really goes to a cafe just to listen to music?\n",
      "\n",
      "\n",
      "------------------------------------------------------------------\n",
      "10\n",
      "Love this cafe! The decor is minimal, but nothing too pretentious. The orchids are so beautiful. \n",
      "\n",
      "Parking is mehhh. There are about 8-9 (give or take) spaces in the back and there's only one entrance/exit off of Wilshire. I can imagine it to be a pain if you're trying to exit the lot while someone else is entering. \n",
      "\n",
      "The staff was great and offered their recommendations. I initially ordered the iced honey latte (really yummy and it comes in a glass beaker). A few hours later, I ordered the chrysanthemum tea. The baristas offered me a sample of it, which is well appreciated. \n",
      "\n",
      "Wifi was quick (password is \"surewhynot\" lol how cute), but I came at around 5pm on a Wednesday. However, there was only one other person in the cafe, so not sure how the wifi would hold up with more people using it. \n",
      "\n",
      "I didn't really dig the playlist (I started laughing to myself when \"Forever and Always\" by Taylor Swift started playing), but who really goes to a cafe just to listen to music?\n",
      "\n",
      "\n",
      "------------------------------------------------------------------\n",
      "23\n",
      "Super nice people, very clean and minimal design. Great coffee, a flavor I have not had before. I will be going often, very cool place to grab a coffee and get some work done. Free wifi. Next time I having the waffles.\n",
      "\n",
      "\n",
      "------------------------------------------------------------------\n",
      "1\n",
      "Great late night coffee shop to get work done!! Or to just come and get coffee too hahaha. But definitely not going to Mr. Coffee anymore unless I'm desperate. Mr. Coffee has way more tables than Nothing But Coffee, but the prices, vibes, and aesthetics are sooo much better here!!!  The prices here are in the middle range. $5 for a 16 oz cold brew. \n",
      "\n",
      "I love the cups here!!! Looks like beakers, and they're so cute. 5/5 for presentation. The interior design of the place is really nice and clean too. \n",
      "\n",
      "The service is alright. Nothing really stood out. \n",
      "The tables are small and few in number, so some people aren't able to find a spot. That's the iffy part about coming here. \n",
      "\n",
      "The cold brew was pretty good. Not too strong and doesn't taste like acetone.. lol\n",
      "\n",
      "Charcoal latte is interesting... I personally didn't like the taste a lot, and it makes your lips and teeth black. So if you like that kind of stuff then sure hahahah \n",
      "\n",
      "Ask for a stamp card! :)\n",
      "\n",
      "\n",
      "------------------------------------------------------------------\n",
      "REVIEWS FOR TOPIC 2:\n",
      "\n",
      "\n",
      "23\n",
      "A coffee shop that opens late, has nice drinks, and plays lofi beat tracks? Think I just found my new favorite study spot. \n",
      "\n",
      "It's pretty quiet in here. People are mostly here to study and side conversations are not that loud. It gets crowded really quickly tho, so finding a seat may be based on your luck.\n",
      "\n",
      "\n",
      "------------------------------------------------------------------\n",
      "16\n",
      "Space: So lovely. Modern and simple. I didn't stay for long to study but I did notice there were many outlets available. I imagine it's an excellent place to study.\n",
      "\n",
      "Drinks: A little watered down. I ordered an iced sweetened matcha green tea latte and an iced caramel latte. It's just ok. If you're expecting something similar to Starbucks, you won't find it here.\n",
      "\n",
      "Price: Overpriced for what it is. Two regular sized iced beverages cost me $10 something.\n",
      "\n",
      "Conclusion: I need to try the other drinks to get a better idea of the quality of this place. Otherwise, it's just ok.\n",
      "\n",
      "\n",
      "------------------------------------------------------------------\n",
      "8\n",
      "The service here is genuine, I feel like I am actually a customer they care about when I walk in to sit down and have a cup of coffee for my late-night study sessions. The atmosphere adds to this feeling of productivity and I am always coming back when I need to grind something out of my work list.\n",
      "\n",
      "On the other hand, the drinks can vary depending on what you like. I tried the dirty matcha cafe, which was my type of drink since I like sweetened coffee and matcha. However, I do think if I drank too much I will get a headache from all the caffeine. The other unique coffee drinks are amazing as well, but I have to say I was very disappointed in the tea I got because it was nothing special. \n",
      "\n",
      "Overall, this place is amazing if you are looking for a late-cafe opened until 2AM to get some work done while staying awake with some good coffee and people!\n",
      "\n",
      "\n",
      "------------------------------------------------------------------\n",
      "6\n",
      "One big plus about this place is that they have a parking lot in the back and it's FREE!\n",
      "\n",
      "The menu is very minimal but they do offer espresso based, latte, drip coffee, and tea. In terms of food, they only have pastries such as brownies, pound cake, and plain but sweet waffle.\n",
      "\n",
      "+ Military latte: This was my first time trying military latte and I really liked it. It was a great blend of matcha and espresso. It was on the sweeter side so next time I'm going to ask for less or even half sweet.\n",
      "\n",
      "+ Banana nut pound cake: Delicious banana bread in cake form, Mmm! The cake wasn't as moist as I would like for it to be but it was still good. I also like the addition of the chocolate chips to it.\n",
      "\n",
      "Service was great, the barista was very pleasant and took her time explaining to us what they offer. \n",
      "\n",
      "Aside from the instrumental music they play in the background, it is rather quiet in here. It was very relaxing and peaceful, perfect place to get work done.\n",
      "\n",
      "All in all, this is a cute cafe with chill vibes, great workspace and good coffee.\n",
      "\n",
      "\n",
      "------------------------------------------------------------------\n",
      "18\n",
      "This shop is definitely a hidden gem. All the positive reviews on Yelp piqued my curiosity and I decided to stop by to see what the rave was about.\n",
      "\n",
      "This cafe has the essentials - good coffee/lattes, spacious, strong internet, and accessible parking.\n",
      "\n",
      "I got myself the NBC Latte, which is mixed with condensed milk and cinnamon. Sweeter than I expected, but I thoroughly enjoyed it.\n",
      "\n",
      "This place is an awesome spot for people trying to get some work done. They're open late (3AM), their WiFi is fast, spacious, and quiet! A hidden gem, I'll be frequenting this shop.\n",
      "\n",
      "\n",
      "------------------------------------------------------------------\n",
      "REVIEWS FOR TOPIC 3:\n",
      "\n",
      "\n",
      "42\n",
      "Gorgeous cafe located in middle of ktown. Offers unique coffee flavored drinks (charcoal latte??) which are delicious and they serve the drinks in lab beakers (so cute!) the staff were very friendly and accommodating as well. The only downside is that parking tends to get very overcrowded, but it's free! I will definitely be back when I'm in the area :)\n",
      "\n",
      "\n",
      "------------------------------------------------------------------\n",
      "3\n",
      "The guy working there was super-nice.  I enjoyed the Date Milk Latte.  And it's cool that they have a frequent-customer card.\n",
      "\n",
      "But the seating at NBC was very limited.\n",
      "\n",
      "I was stuck sitting on a bench that was very wobbly... so definitely not too comfortable for a place you're going to study at for hours.\n",
      "\n",
      "\n",
      "------------------------------------------------------------------\n",
      "22\n",
      "LOCATION- its on a street so its a bit easy to miss and also the parking lot is literally in the back of the coffee shop but the entrance is so tiny I missed it on the first try. The road leading to the parking lot is only big enough for one car to go through so you need to be very cautious when driving in. Also, there aren't many parking spots either. \n",
      "\n",
      "SERVICE-I came here twice and both times the barista was very helping and welcoming.\n",
      "\n",
      "NBC LATTE- OMG. It was delicious. They put a whole cinnamon stick in the drink! You would think that it would overpower the drink but it didn't at all! Right amount of sweet and milk! \n",
      "\n",
      "I really liked the atmosphere because from the outside of the place, it looks like it would just be like a mom and pops coffee shop but its not. Its very contemporary and clean. It would be a nice spot to study or to just hang out with friends. I would definitely come back when Im in K-Town.\n",
      "\n",
      "\n",
      "------------------------------------------------------------------\n",
      "1\n",
      "Time* Around 5pm on a Tuesday. \n",
      "\n",
      "Wait* None. But around 6pm people starts coming in. \n",
      "\n",
      "Parking* I believe they have a free parking lot in the rear where you can get in from wilshire, but I parked on the street on Van Ness and walked over. \n",
      "\n",
      "Food* Charcoal Latte. It is to my surprise that the charcoal latte is on the sweet side, because I was expecting more of a bitter taste. It actually suits my taste because it is very easy to drink and has a very smooth texture. But as you keep drinking it, it gets sweeter, so I probably will order less sweet or try something else next time. Also, it is interesting that they chose to use cups without a handle, makes me want to sip it slowly. \n",
      "\n",
      "Price* $5.25, a little cheaper than the coffee shops in the area. \n",
      "\n",
      "Service* The cashier/barista is smiley and polite and he seems to know the menu pretty well as I heard him explaining drinks to others. I also like how he will tell you to enjoy once he brings out the drink. He is very patient too as I noticed the way he dealt with another customer who was taking quite some time to order for her friends as well.\n",
      "\n",
      "Environment* The coffee shop has a rectangular interior and all the tables are along the wall. It has a decent amount of seatings and I love the fact that they don't cram the place but leave rooms in between tables. Not to mention, they have power outlets almost in every table! I would recommend this place for studying or chilling~\n",
      "\n",
      "\n",
      "------------------------------------------------------------------\n",
      "12\n",
      "Don't let the name deceive you! They have things other than coffee here. This place has quickly become my favorite cafe to come and do work. The music is good for studying, the wifi is fast and reliable, and the small tables are perfect for solo work. There are plenty of outlets throughout the space too, so don't be like me and remember to bring your chargers.\n",
      "\n",
      "There's a small parking lot that's dedicated to this place but the tight space makes me kinda nervous and last I checked I think there's technically a 2-hour limit. Not sure how strictly that's enforced though cause I feel like I've seen people who parked in the lot and stayed a lot longer than that. I like to come on the weekends cause there's plenty of street parking on Wilshire and Wilton that's free after 4pm.\n",
      "\n",
      "The drinks here are good but also really cheap. My favorites so far are the Matcha Latte and Hibiscus Lemonade. The NBC Latte was pretty good too. I tried the Truffle Honey Latte, which I thought was interesting but I'll probably stay clear of it. The truffle is definitely noticeable in the aftertaste, and I don't think I really liked it in my latte. Don't forget to get a punchcard! Your 10th drink is on the house.\n",
      "\n",
      "\n",
      "------------------------------------------------------------------\n",
      "REVIEWS FOR TOPIC 4:\n",
      "\n",
      "\n",
      "15\n",
      "A few mornings ago I was walking towards the coffee shop in the plaza across here while I was checking yelp; and that's where I saw this place was closer from the social security where I was running some errands at. They have a sign outside stating the \"soup of the day\" was their amazing signature coffee drink (truffle honey latte). \n",
      "\n",
      "As unique as it sounds this latte was deliciously rich and made to perfection (not too bitter, not too sweet). I was kinda sad when I finished it. Their NBC latte is as delicious as well. They put a stick of cinnamon on it that gives it a fresh touch. I also had their delightful Belgian style waffle that they make right in front your eyes so you get to enjoy it fresh. I had to ordered an extra to go as it was so delicious. Perfectly sweetened and crunchy on the ends. The place is barely new but there were like three customers while I was there. Though the place is small the tables and set up of the seating is just right. \n",
      "\n",
      "Parking on rear. Just be careful as the entrance/exit is the same alley looking next to it on busy Wilshire Blvd. There's plenty of metered street parking too. If I had this place closer I'll be a regular for sure. I loved the name, environment, service, coffee and that waffle!!!\n",
      "\n",
      "\n",
      "------------------------------------------------------------------\n",
      "37\n",
      "Really, really fantastic. Really good coffee, great lo-fi music, and a casual vibe. Also, the 3am closing time makes this an amazing place for those late night work sessions.\n",
      "\n",
      "\n",
      "------------------------------------------------------------------\n",
      "25\n",
      "Oh yes, another coffee shop in the midst of the busy streets of Koreatown. But don't let the small coffee shop fool you. \n",
      "\n",
      "It lies on the streets of Wilshire near Wilton Pl. and very hidden, so might have to drive really slowly to find the place. However, if you see the Jonny and Mia studios that is next to the coffee shop, you'll find it there.\n",
      "\n",
      "The interior of the coffee shop is really cute! I definitely got it give it to them to put a lot of effort and care into their aesthetics. They have a huge cherry in the middle of the shop with wooden tables and a bunch of plugs. They also do a really good job in maintaining the store. \n",
      "\n",
      "In terms of the menu, there is a huge selection of coffee. You can either get your typical hot teas, vanilla lattes, to their speciality NBC latte. They also have charcoal latte, but I am not sure if it's good. Price wise, you'll definitely spend around $5-$6 per drink. But, they also have scrumptious waffles that is made fresh, and it fills up the entire cafe. Yum! \n",
      "\n",
      "I always either get their NBC latte or green tea matcha latte. For the NBC latte, I get it with their almond milk, and woo! It's so good! It has a cinnamon stick in it, and it really is a nice cinnamon latte. You can taste the espresso, but the sweetness from the milk and sugar makes it smooth and good. I also love their matcha latte. It's a little sweet, but you won't get robbed from the matcha flavor. \n",
      "\n",
      "Study place wise, yes! It's so perfect as a study place. I think this place got really popular since it opened because it's quiet and calm. Definitely a good place to study at or talk to your friends after a long day. \n",
      "\n",
      "Parking... sigh. I don't know where to begin. It's behind the coffee shop, and it's shared with 2 other businesses. THEREFORE, it's a hit or miss when it comes to parking. They do allow you to double park, but it's such a pain in the next might as well not do it. But, I would say it's worth trying to come and stay. Or, if you can Uber here, that's probably better too. \n",
      "\n",
      "Overall, great coffee shops and deserves all the popularity that it deserves. I have been a regular since they have opened, and always try to go back at least once a week.\n",
      "\n",
      "\n",
      "------------------------------------------------------------------\n",
      "22\n",
      "A great bougie/cheap experience. Glad I dropped by. Yelp is making me write more but there's not much else to say other than this place is dope. Also blink and you'll miss the free parking BEHIND the store.\n",
      "\n",
      "\n",
      "------------------------------------------------------------------\n",
      "8\n",
      "My go-to coffee shop in k-town! I always get the iced charcoal latte but everything is good here - americano, mocha, nbc latte, pour over.. you get my point.. :) The baristas are really nice and know what they're doing.\n",
      "\n",
      "Parking is free in the back and there's a lot of seats .. BUT there are always a ton of people studying here so seating may be an issue if you come at a busy time. Interior is cute and their music is chill. Good place to relax/study/chat.\n",
      "\n",
      "\n",
      "------------------------------------------------------------------\n"
     ]
    }
   ],
   "source": [
    "for i in range(5):\n",
    "    print('REVIEWS FOR TOPIC ' + str(i) + \":\")\n",
    "    print('\\n')\n",
    "    print_reviews(df_nbc, 'topic_statements', i)"
   ]
  },
  {
   "cell_type": "markdown",
   "metadata": {},
   "source": [
    "### using all tokens..."
   ]
  },
  {
   "cell_type": "code",
   "execution_count": 156,
   "metadata": {},
   "outputs": [],
   "source": [
    "X_tok = df_nbc['tokens']\n",
    "count_vec_tok = CountVectorizer(min_df=0.1, analyzer=lambda x:x)\n",
    "X_tok_train = count_vec_tok.fit_transform(X_tok)"
   ]
  },
  {
   "cell_type": "code",
   "execution_count": 157,
   "metadata": {},
   "outputs": [],
   "source": [
    "LDA_tok = LatentDirichletAllocation(n_components=7, random_state=42)"
   ]
  },
  {
   "cell_type": "code",
   "execution_count": 158,
   "metadata": {},
   "outputs": [
    {
     "data": {
      "text/plain": [
       "LatentDirichletAllocation(batch_size=128, doc_topic_prior=None,\n",
       "             evaluate_every=-1, learning_decay=0.7,\n",
       "             learning_method='batch', learning_offset=10.0,\n",
       "             max_doc_update_iter=100, max_iter=10, mean_change_tol=0.001,\n",
       "             n_components=7, n_jobs=None, n_topics=None, perp_tol=0.1,\n",
       "             random_state=42, topic_word_prior=None,\n",
       "             total_samples=1000000.0, verbose=0)"
      ]
     },
     "execution_count": 158,
     "metadata": {},
     "output_type": "execute_result"
    }
   ],
   "source": [
    "LDA_tok.fit(X_tok_train)"
   ]
  },
  {
   "cell_type": "code",
   "execution_count": 159,
   "metadata": {},
   "outputs": [
    {
     "name": "stdout",
     "output_type": "stream",
     "text": [
      "Top 15 words/phrases for topic #0\n",
      "[('550ml', 'approximate'), ('amount', 'good'), ('amazing', 'jay'), ('almond', 'latte'), ('ample', 'seating'), ('anybody', 'paradise'), ('ambience', 'quiet'), ('1pm', 'afternoon'), ('acidic', 'blend'), ('alternative', 'milk'), ('anything', 'home'), ('advantage', 'good'), ('about.this', 'cafe'), ('ambience', 'prettt'), ('almond', 'granule')]\n",
      "\n",
      "\n",
      "Top 15 words/phrases for topic #1\n",
      "[('ambiance', 'comparable'), ('amount', 'strength'), ('almond', 'granule'), ('10th', 'drink'), ('a.m.', 'early'), ('acidic', 'blend'), ('actual', 'orange'), ('amount', 'right'), (\"area.they're\", 'parking'), ('amazing', 'waffle'), ('500ml', 'beaker'), ('aesthetic', 'simple'), ('alley', 'same'), ('amount', 'sweetness'), ('abundant', 'outlet')]\n",
      "\n",
      "\n",
      "Top 15 words/phrases for topic #2\n",
      "[('ambience', 'prettt'), ('amount', 'right'), ('accessible', 'outlet'), ('amount', 'sweetness'), ('afternoon', 'coffee'), ('ambience', 'quiet'), ('area', 'shop'), ('aftertaste', 'earthy'), ('a.m.', 'early'), ('amazing', 'coffee'), ('area', 'communal'), ('afternoon', 'spot'), ('abundant', 'outlet'), ('aesthetic', 'simple'), ('almond', 'granule')]\n",
      "\n",
      "\n",
      "Top 15 words/phrases for topic #3\n",
      "[('ambiance', 'night'), ('amazing', 'place'), ('alright', 'service'), ('amount', 'seating'), ('accent', 'natural'), ('1st', 'impression'), ('arrangement', 'friendly'), ('amazing', 'jay'), ('aesthetic', 'simple'), ('1pm', 'afternoon'), ('%', 'people'), ('10th', 'drink'), ('abundant', 'outlet'), ('ambience', 'quiet'), ('a.m.', 'early')]\n",
      "\n",
      "\n",
      "Top 15 words/phrases for topic #4\n",
      "[('am!!!!clean', 'bathroom'), ('accent', 'natural'), ('almond', 'latte'), ('amount', 'room'), ('abundant', 'outlet'), ('1pm', 'afternoon'), ('almond', 'granule'), ('ambiance', 'comparable'), ('afternoon', 'coffee'), ('arrangement', 'friendly'), ('amount', 'study'), ('a.m.', 'early'), ('angele', 'great'), ('ambience', 'quiet'), ('ambiance', 'night')]\n",
      "\n",
      "\n",
      "Top 15 words/phrases for topic #5\n",
      "[('acidic', 'blend'), ('ambiance', 'wonderful'), ('amazing', 'waffle'), ('accent', 'natural'), ('a.m.', 'early'), ('amazing', 'coffee'), ('about.this', 'rave'), ('amount', 'perfect'), ('alley', 'same'), ('amount', 'sweetness'), ('afternoon', 'coffee'), ('aesthetic', 'simple'), ('arrangement', 'friendly'), ('abundant', 'outlet'), ('ambience', 'quiet')]\n",
      "\n",
      "\n",
      "Top 15 words/phrases for topic #6\n",
      "[('about.this', 'cafe'), ('amazing', 'hour'), ('ample', 'seating'), ('ambiance', 'coffee'), ('area', 'shop'), ('anybody', 'paradise'), ('addition', 'interesting'), ('able', 'people'), ('acidic', 'blend'), ('actual', 'review'), ('almond', 'latte'), ('amazing', 'place'), ('almond', 'granule'), ('abundant', 'outlet'), ('aesthetic', 'simple')]\n",
      "\n",
      "\n"
     ]
    }
   ],
   "source": [
    "for i, topic in enumerate(LDA_tok.components_):\n",
    "    print(f'Top 15 words/phrases for topic #{i}')\n",
    "    print([count_vec.get_feature_names()[i] for i in topic.argsort()[-15:]])\n",
    "    print('\\n')"
   ]
  },
  {
   "cell_type": "code",
   "execution_count": null,
   "metadata": {},
   "outputs": [],
   "source": []
  },
  {
   "cell_type": "raw",
   "metadata": {},
   "source": [
    "s = 'the place is cute'"
   ]
  },
  {
   "cell_type": "code",
   "execution_count": 44,
   "metadata": {},
   "outputs": [
    {
     "name": "stdout",
     "output_type": "stream",
     "text": [
      "place is cute\n",
      "cute place\n"
     ]
    }
   ],
   "source": [
    "s = 'the place is cute. it is a cute place'\n",
    "test_doc = nlp(s)\n",
    "matches = matcher(test_doc)\n",
    "for _, beg, end in matches:\n",
    "    print(test_doc[beg:end])"
   ]
  },
  {
   "cell_type": "code",
   "execution_count": 81,
   "metadata": {},
   "outputs": [],
   "source": [
    "s = 'the barrista was super nice'\n",
    "test_doc = nlp(s)\n",
    "matches = matcher(test_doc)\n",
    "for _, beg, end in matches:\n",
    "    print(test_doc[beg:end])"
   ]
  },
  {
   "cell_type": "markdown",
   "metadata": {},
   "source": [
    "## Identifying products in reviews"
   ]
  },
  {
   "cell_type": "markdown",
   "metadata": {},
   "source": [
    "This is not the most efficient way to identify products especially if this list gets long and the algorithm would have to scan through each item and check if it's in each review. \n",
    "\n",
    "For a later exercise: figure out how to train spaCy model to add more entities to entity recognition feature.\n",
    "\n",
    "https://datascience.stackexchange.com/questions/57650/is-there-any-way-to-define-custom-entities-in-spacy"
   ]
  },
  {
   "cell_type": "code",
   "execution_count": 195,
   "metadata": {},
   "outputs": [],
   "source": [
    "mocha = ['earl gray mocha', 'mocha']\n",
    "\n",
    "latte = ['latte',  'matcha', 'charcoal']\n",
    "\n",
    "coffee = ['espresso', 'americano', 'cappucino', 'cortado', 'nbc', 'ktown']\n",
    "\n",
    "tea = ['tea', 'chai', 'green tea', 'black tea', 'rose tea', 'chrysanthemum tea']\n",
    "            \n",
    "drinks = ['lemonade', 'ade']\n",
    "\n",
    "food = ['salad', 'toast', 'sandwich']"
   ]
  },
  {
   "cell_type": "code",
   "execution_count": 228,
   "metadata": {},
   "outputs": [],
   "source": [
    "def check_drinks(df, items):\n",
    "    \n",
    "    num_item_types = len(items)\n",
    "    #for each item type, have a list that will contain 0 or 1 for each review \n",
    "    #depending if that review mentions an item from that item type\n",
    "    matches = [[] for i in range(num_item_types)]\n",
    "    \n",
    "    for review in df['reviews']:\n",
    "        review = text_preprocess(review)\n",
    "        \n",
    "        for i in range(num_item_types):\n",
    "            item_type = items[i]\n",
    "            in_review = 0\n",
    "            for item in item_type:\n",
    "                if item in review:\n",
    "                    in_review = 1\n",
    "            matches[i].append(in_review)\n",
    "    \n",
    "    return matches"
   ]
  },
  {
   "cell_type": "code",
   "execution_count": 229,
   "metadata": {},
   "outputs": [],
   "source": [
    "items = [mocha, latte, coffee, tea, drinks, food]\n",
    "matches = check_drinks(df_nbc, items)"
   ]
  },
  {
   "cell_type": "code",
   "execution_count": 243,
   "metadata": {},
   "outputs": [
    {
     "name": "stdout",
     "output_type": "stream",
     "text": [
      "4\n",
      "99\n",
      "49\n",
      "29\n",
      "16\n",
      "1\n"
     ]
    }
   ],
   "source": [
    "for i in range(6):\n",
    "    print(sum(matches[i]))"
   ]
  },
  {
   "cell_type": "code",
   "execution_count": 238,
   "metadata": {},
   "outputs": [],
   "source": [
    "df_nbc['has_mocha'] = matches[0]\n",
    "df_nbc['has_latte'] = matches[1]\n",
    "df_nbc['has_coffee'] = matches[2]\n",
    "df_nbc['has_tea'] = matches[3]\n",
    "df_nbc['has_drinks'] = matches[4]\n",
    "df_nbc['has_food'] = matches[5]"
   ]
  },
  {
   "cell_type": "code",
   "execution_count": 242,
   "metadata": {},
   "outputs": [
    {
     "data": {
      "text/plain": [
       "\"I come here every week to get some work done. It's not too loud and I like how there are outlets by every table. So far, I've tried the NBC, earl grey mocha, green tea latte, and chai tea latte, and they're all pretty good! I usually stick with the NBC with oat milk though because I need the caffeine fix - It's a velvety, smooth Spanish latte served with cinnamon sticks inside. For pastries, I tried their croissants (green tea raspberry croissant, and butter) and coffee cake, and I highly recommend the coffee cake! The croissants are fairly mediocre, but the coffee cake's rich and buttery.. it tastes perfect with your coffee. I haven't seen the cake recently though.. I think it's sold out by the time I get there.\""
      ]
     },
     "execution_count": 242,
     "metadata": {},
     "output_type": "execute_result"
    }
   ],
   "source": [
    "df_nbc[df_nbc['has_mocha'] == 1]['reviews'].iloc[0]"
   ]
  },
  {
   "cell_type": "code",
   "execution_count": 244,
   "metadata": {},
   "outputs": [
    {
     "data": {
      "text/plain": [
       "\"I'm always looking forward to new cafes in ktwn as many tend to become too busy overtime. the vibe's really nice and quiet here (well, depends on the number of people in the cafe but we came during the quiet time.) this is definitely our new go-to. btw, I got the vanilla latte with soy milk and i loved it so much! not too sweet\""
      ]
     },
     "execution_count": 244,
     "metadata": {},
     "output_type": "execute_result"
    }
   ],
   "source": [
    "df_nbc[df_nbc['has_latte'] == 1]['reviews'].iloc[80]"
   ]
  },
  {
   "cell_type": "code",
   "execution_count": 245,
   "metadata": {},
   "outputs": [
    {
     "data": {
      "text/plain": [
       "\"So, I was in L.A. yesterday (4/27) and was looking for a pick me up. Found this little gem on google and decided to try it with my family. We came and I ordered the NBC Latte and my daughter ordered the iced Truffle Honey latte. And they were both absolutely delicious! The guy at the counter was the sweetest. I can't wait to come back and have another latte. :)\""
      ]
     },
     "execution_count": 245,
     "metadata": {},
     "output_type": "execute_result"
    }
   ],
   "source": [
    "df_nbc[df_nbc['has_coffee'] == 1]['reviews'].iloc[18]"
   ]
  },
  {
   "cell_type": "code",
   "execution_count": 246,
   "metadata": {},
   "outputs": [
    {
     "data": {
      "text/plain": [
       "\"They offer pu're tea! The tea actually dissolves in the water! Obsessed with their tea selection and also got a chance to try their signature NBC latte. Check in and order was easy breezy - and so friendly. This shop is an undiscovered gem and I intend to drink my way through their menu. Beverages range from $3-6 and plenty of parking in the back and on the street...unusual for ktown.\""
      ]
     },
     "execution_count": 246,
     "metadata": {},
     "output_type": "execute_result"
    }
   ],
   "source": [
    "df_nbc[df_nbc['has_tea'] == 1]['reviews'].iloc[25]"
   ]
  },
  {
   "cell_type": "code",
   "execution_count": 249,
   "metadata": {},
   "outputs": [
    {
     "data": {
      "text/plain": [
       "\"Love the rose croissant here, and the drinks are delicious! \\nIt was $3.75, so a bit more pricey than I would have liked for just a croissant, but the flavor was worth it. ugh the rose petal got me. It tasted distinctly like strawberry pocky, so I'm curious how they make the cream. \\n\\nI had the blue  lemonade, it was sparkling and super unique and tasty. \\nA bit tart, but refreshing nonetheless. \\nLoved the earl grey latte, super sultry and the flavor was light and had some high notes of earthy dark flavor. \\n\\nThe cafe has a really low key vibe, perfect for hanging out with friends, or working on a project. the power outlets are abundant and the wifi is strong ( using it right now ) \\n\\nthe cashiers are friendly and well dressed korean guys  :) \\n\\nIndie music is a plus too! \\n\\nDefinitely will be coming back with friends.\""
      ]
     },
     "execution_count": 249,
     "metadata": {},
     "output_type": "execute_result"
    }
   ],
   "source": [
    "df_nbc[df_nbc['has_drinks'] == 1]['reviews'].iloc[0]"
   ]
  },
  {
   "cell_type": "code",
   "execution_count": 250,
   "metadata": {},
   "outputs": [
    {
     "data": {
      "text/plain": [
       "\"I love supporting small businesses and trying unique coffee, so I stopped by Nothing But Coffee. I would rate my recent visit 3.5 stars.\\n\\nINTERIOR\\nI was very impressed by the spacious and clean interior! Most of the new coffee shops are small and barely have any tables to accommodate their guests. Nothing But Coffee had a lot of small tables, seats on the bar, and some chairs. I also loved that they had electrical outlets for those who wish to stay to work or study. The decor is simple and very neat. The coffee shop was very empty when I went, probably because it hasn't been long since it opened. \\n\\nCOFFEE\\nI ordered the most expensive drink on their menu, the truffle honey latte for $6. The one other unique item I saw on their menu was their NBC latte but I decided to try the drink they were advertising on their front entrance. I ordered it iced and less sweet. The barista was very friendly checked up on me to make sure that I liked the drink and the sweetness adjustment. The latte was served in a cute 500mL beaker, a very appropriate cup for the nerd in me who stayed in their coffee shop to write my lab reports. \\n\\nThe coffee itself was very interesting, something I have never tried before. The drink was very light in color,  so there is a lot of milk and probably barely any coffee in it. Or maybe it doesn't even have coffee, I couldn't tell. The truffle flavor was an interesting addition. There is some sweetness from the honey but the predominant flavor is white truffle. It leaves a lingering earthy flavor that stands out before any other flavor in the latte. I enjoy white truffle oil in breads and salads, but I wasn't sure of how I felt drinking it in a milky beverage. I didn't hate it, but I didn't love it either. I drank about 250mL out of the approximate 550mL (I roughly know because of the beaker measurements) and already felt tired of the milky truffle flavor. The truffle honey latte was definitely not my cup of tea (or should I say, not my cup of coffee). It is definitely a unique item on their menu, but I personally wouldn't order it again.\\n\\nOverall, Nothing But Coffee is a nice and clean coffee shop. I love the interior of the shop and the friendliness of the barista who helped me. I wouldn't come back for the truffle honey latte, but I might try something different on my next visit.\""
      ]
     },
     "execution_count": 250,
     "metadata": {},
     "output_type": "execute_result"
    }
   ],
   "source": [
    "df_nbc[df_nbc['has_food'] == 1]['reviews'].iloc[0]"
   ]
  },
  {
   "cell_type": "markdown",
   "metadata": {},
   "source": [
    "## Notes\n",
    "\n",
    "continue testing to see if I can apply regex and/or rule based matching to identify products faster"
   ]
  },
  {
   "cell_type": "markdown",
   "metadata": {},
   "source": [
    "Using regex and spaCy to come up with more efficient way of identifying sentences and reviews with certain products... "
   ]
  },
  {
   "cell_type": "code",
   "execution_count": 7,
   "metadata": {},
   "outputs": [],
   "source": [
    "mocha_p = '(earl ?gr(a|e)y ?)?(mocha)'\n",
    "\n",
    "latte_p = '(matcha ?|charcoal ?)?(latte|matcha)'\n",
    "\n",
    "coffee_p = '(espresso|americano|cappucino|cortado|nbc|ktown)'\n",
    "\n",
    "tea_p = '(green ?|black ?|rose ?|chrysanthemum ?)?(tea|chai)'\n",
    "            \n",
    "drinks_p = '(blue ?)?(lemonade)'\n",
    "\n",
    "food_p = '(egg ?avocado ?|penne ? basil ? pesto ?)?(salad)|(arugula ?)?(toast)|(pastrami ?cheese ?|cheese ?)?(sandwich)'\n"
   ]
  },
  {
   "cell_type": "code",
   "execution_count": 20,
   "metadata": {},
   "outputs": [],
   "source": [
    "def get_prod_sents(reviews, patterns):\n",
    "    \n",
    "    item_types = len(patterns)\n",
    "    prod_matches = [[] for i in range(item_types)]\n",
    "    \n",
    "    for review in reviews:\n",
    "        review = text_preprocess(review)\n",
    "        review_doc = nlp(review)\n",
    "        \n",
    "        for i in range(item_types):\n",
    "            prod_sents = ''\n",
    "            \n",
    "            for match in re.finditer(patterns[i], review):\n",
    "                start, end = match.span()\n",
    "                span = review_doc.char_span(start, end)\n",
    "                \n",
    "                if span is not None:\n",
    "                    prod_sents += span.sent.text\n",
    "                    \n",
    "            prod_matches[i].append(prod_sents)\n",
    "            \n",
    "    return prod_matches\n",
    "\n",
    "def append_prod_sents(df, pattern_names, patterns):\n",
    "    \n",
    "    reviews = df['reviews']\n",
    "    prod_sents = get_prod_sents(reviews, patterns)\n",
    "    \n",
    "    for i, name in enumerate(pattern_names):\n",
    "        col_name = 'mentions_' + name\n",
    "        df[col_name] = prod_sents[i]\n",
    "        \n",
    "    return df\n",
    "\n"
   ]
  },
  {
   "cell_type": "code",
   "execution_count": 21,
   "metadata": {},
   "outputs": [],
   "source": [
    "pattern_names = ['mocha', 'latte', 'coffee', 'tea', 'misc_drinks', 'food']\n",
    "patterns = [mocha_p, latte_p, coffee_p, tea_p, drinks_p, food_p]\n",
    "df_nbc = append_prod_sents(df_nbc, pattern_names, patterns)"
   ]
  },
  {
   "cell_type": "code",
   "execution_count": 22,
   "metadata": {},
   "outputs": [
    {
     "data": {
      "text/html": [
       "<div>\n",
       "<style scoped>\n",
       "    .dataframe tbody tr th:only-of-type {\n",
       "        vertical-align: middle;\n",
       "    }\n",
       "\n",
       "    .dataframe tbody tr th {\n",
       "        vertical-align: top;\n",
       "    }\n",
       "\n",
       "    .dataframe thead th {\n",
       "        text-align: right;\n",
       "    }\n",
       "</style>\n",
       "<table border=\"1\" class=\"dataframe\">\n",
       "  <thead>\n",
       "    <tr style=\"text-align: right;\">\n",
       "      <th></th>\n",
       "      <th>review_dates</th>\n",
       "      <th>review_ratings</th>\n",
       "      <th>reviews</th>\n",
       "      <th>mentions_mocha</th>\n",
       "      <th>mentions_latte</th>\n",
       "      <th>mentions_coffee</th>\n",
       "      <th>mentions_tea</th>\n",
       "      <th>mentions_misc_drinks</th>\n",
       "      <th>mentions_food</th>\n",
       "    </tr>\n",
       "  </thead>\n",
       "  <tbody>\n",
       "    <tr>\n",
       "      <th>0</th>\n",
       "      <td>2020-02-15</td>\n",
       "      <td>5.0</td>\n",
       "      <td>Cute place to study  ! They have individuals t...</td>\n",
       "      <td></td>\n",
       "      <td></td>\n",
       "      <td></td>\n",
       "      <td>their green tea and macchiato is amazing</td>\n",
       "      <td></td>\n",
       "      <td></td>\n",
       "    </tr>\n",
       "    <tr>\n",
       "      <th>1</th>\n",
       "      <td>2020-03-04</td>\n",
       "      <td>4.0</td>\n",
       "      <td>Love the rose croissant here, and the drinks a...</td>\n",
       "      <td></td>\n",
       "      <td>it was sparkling and super unique and tasty a ...</td>\n",
       "      <td></td>\n",
       "      <td></td>\n",
       "      <td>so i'm curious how they make the cream i had t...</td>\n",
       "      <td></td>\n",
       "    </tr>\n",
       "    <tr>\n",
       "      <th>2</th>\n",
       "      <td>2020-03-03</td>\n",
       "      <td>4.0</td>\n",
       "      <td>Time* Around 5pm on a Tuesday. \\n\\nWait* None....</td>\n",
       "      <td></td>\n",
       "      <td>* i believe they have a free parking lot in th...</td>\n",
       "      <td></td>\n",
       "      <td></td>\n",
       "      <td></td>\n",
       "      <td></td>\n",
       "    </tr>\n",
       "    <tr>\n",
       "      <th>3</th>\n",
       "      <td>2020-02-28</td>\n",
       "      <td>4.0</td>\n",
       "      <td>Okay, you know how there are a million artisan...</td>\n",
       "      <td></td>\n",
       "      <td></td>\n",
       "      <td></td>\n",
       "      <td></td>\n",
       "      <td></td>\n",
       "      <td></td>\n",
       "    </tr>\n",
       "    <tr>\n",
       "      <th>4</th>\n",
       "      <td>2020-01-18</td>\n",
       "      <td>5.0</td>\n",
       "      <td>Everything but the parking situation is great ...</td>\n",
       "      <td></td>\n",
       "      <td>everything but the parking situation is great ...</td>\n",
       "      <td>everything but the parking situation is great ...</td>\n",
       "      <td></td>\n",
       "      <td></td>\n",
       "      <td></td>\n",
       "    </tr>\n",
       "  </tbody>\n",
       "</table>\n",
       "</div>"
      ],
      "text/plain": [
       "  review_dates review_ratings  \\\n",
       "0   2020-02-15            5.0   \n",
       "1   2020-03-04            4.0   \n",
       "2   2020-03-03            4.0   \n",
       "3   2020-02-28            4.0   \n",
       "4   2020-01-18            5.0   \n",
       "\n",
       "                                             reviews mentions_mocha  \\\n",
       "0  Cute place to study  ! They have individuals t...                  \n",
       "1  Love the rose croissant here, and the drinks a...                  \n",
       "2  Time* Around 5pm on a Tuesday. \\n\\nWait* None....                  \n",
       "3  Okay, you know how there are a million artisan...                  \n",
       "4  Everything but the parking situation is great ...                  \n",
       "\n",
       "                                      mentions_latte  \\\n",
       "0                                                      \n",
       "1  it was sparkling and super unique and tasty a ...   \n",
       "2  * i believe they have a free parking lot in th...   \n",
       "3                                                      \n",
       "4  everything but the parking situation is great ...   \n",
       "\n",
       "                                     mentions_coffee  \\\n",
       "0                                                      \n",
       "1                                                      \n",
       "2                                                      \n",
       "3                                                      \n",
       "4  everything but the parking situation is great ...   \n",
       "\n",
       "                               mentions_tea  \\\n",
       "0  their green tea and macchiato is amazing   \n",
       "1                                             \n",
       "2                                             \n",
       "3                                             \n",
       "4                                             \n",
       "\n",
       "                                mentions_misc_drinks mentions_food  \n",
       "0                                                                   \n",
       "1  so i'm curious how they make the cream i had t...                \n",
       "2                                                                   \n",
       "3                                                                   \n",
       "4                                                                   "
      ]
     },
     "execution_count": 22,
     "metadata": {},
     "output_type": "execute_result"
    }
   ],
   "source": [
    "df_nbc.head()"
   ]
  },
  {
   "cell_type": "code",
   "execution_count": 26,
   "metadata": {},
   "outputs": [
    {
     "data": {
      "text/html": [
       "<div>\n",
       "<style scoped>\n",
       "    .dataframe tbody tr th:only-of-type {\n",
       "        vertical-align: middle;\n",
       "    }\n",
       "\n",
       "    .dataframe tbody tr th {\n",
       "        vertical-align: top;\n",
       "    }\n",
       "\n",
       "    .dataframe thead th {\n",
       "        text-align: right;\n",
       "    }\n",
       "</style>\n",
       "<table border=\"1\" class=\"dataframe\">\n",
       "  <thead>\n",
       "    <tr style=\"text-align: right;\">\n",
       "      <th></th>\n",
       "      <th>review_dates</th>\n",
       "      <th>review_ratings</th>\n",
       "      <th>reviews</th>\n",
       "      <th>mentions_mocha</th>\n",
       "      <th>mentions_latte</th>\n",
       "      <th>mentions_coffee</th>\n",
       "      <th>mentions_tea</th>\n",
       "      <th>mentions_misc_drinks</th>\n",
       "      <th>mentions_food</th>\n",
       "    </tr>\n",
       "  </thead>\n",
       "  <tbody>\n",
       "    <tr>\n",
       "      <th>1</th>\n",
       "      <td>2020-03-04</td>\n",
       "      <td>4.0</td>\n",
       "      <td>Love the rose croissant here, and the drinks a...</td>\n",
       "      <td></td>\n",
       "      <td>it was sparkling and super unique and tasty a ...</td>\n",
       "      <td></td>\n",
       "      <td></td>\n",
       "      <td>so i'm curious how they make the cream i had t...</td>\n",
       "      <td></td>\n",
       "    </tr>\n",
       "    <tr>\n",
       "      <th>34</th>\n",
       "      <td>2018-08-05</td>\n",
       "      <td>5.0</td>\n",
       "      <td>Don't let the name deceive you! They have thin...</td>\n",
       "      <td></td>\n",
       "      <td>really cheap my favorites so far are the match...</td>\n",
       "      <td>the nbc latte was pretty good too</td>\n",
       "      <td></td>\n",
       "      <td>really cheap my favorites so far are the match...</td>\n",
       "      <td></td>\n",
       "    </tr>\n",
       "    <tr>\n",
       "      <th>70</th>\n",
       "      <td>2018-03-07</td>\n",
       "      <td>5.0</td>\n",
       "      <td>There's been so many new coffee places opening...</td>\n",
       "      <td></td>\n",
       "      <td>so its definitely a place where you can chat w...</td>\n",
       "      <td>there's been so many new coffee places opening...</td>\n",
       "      <td></td>\n",
       "      <td>so its definitely a place where you can chat w...</td>\n",
       "      <td></td>\n",
       "    </tr>\n",
       "    <tr>\n",
       "      <th>84</th>\n",
       "      <td>2018-02-27</td>\n",
       "      <td>4.0</td>\n",
       "      <td>Very comfortable spot! Bright and long stretch...</td>\n",
       "      <td></td>\n",
       "      <td></td>\n",
       "      <td></td>\n",
       "      <td></td>\n",
       "      <td>i got their hibiscus lemonade which was a deli...</td>\n",
       "      <td></td>\n",
       "    </tr>\n",
       "    <tr>\n",
       "      <th>103</th>\n",
       "      <td>2018-04-19</td>\n",
       "      <td>5.0</td>\n",
       "      <td>I think I'm in love with this place! The momen...</td>\n",
       "      <td></td>\n",
       "      <td>there is just quite enough for you to block it...</td>\n",
       "      <td>but i definitely prefer the nbcit's own parkin...</td>\n",
       "      <td></td>\n",
       "      <td>the flavors were more mild but they melded tog...</td>\n",
       "      <td></td>\n",
       "    </tr>\n",
       "  </tbody>\n",
       "</table>\n",
       "</div>"
      ],
      "text/plain": [
       "    review_dates review_ratings  \\\n",
       "1     2020-03-04            4.0   \n",
       "34    2018-08-05            5.0   \n",
       "70    2018-03-07            5.0   \n",
       "84    2018-02-27            4.0   \n",
       "103   2018-04-19            5.0   \n",
       "\n",
       "                                               reviews mentions_mocha  \\\n",
       "1    Love the rose croissant here, and the drinks a...                  \n",
       "34   Don't let the name deceive you! They have thin...                  \n",
       "70   There's been so many new coffee places opening...                  \n",
       "84   Very comfortable spot! Bright and long stretch...                  \n",
       "103  I think I'm in love with this place! The momen...                  \n",
       "\n",
       "                                        mentions_latte  \\\n",
       "1    it was sparkling and super unique and tasty a ...   \n",
       "34   really cheap my favorites so far are the match...   \n",
       "70   so its definitely a place where you can chat w...   \n",
       "84                                                       \n",
       "103  there is just quite enough for you to block it...   \n",
       "\n",
       "                                       mentions_coffee mentions_tea  \\\n",
       "1                                                                     \n",
       "34                   the nbc latte was pretty good too                \n",
       "70   there's been so many new coffee places opening...                \n",
       "84                                                                    \n",
       "103  but i definitely prefer the nbcit's own parkin...                \n",
       "\n",
       "                                  mentions_misc_drinks mentions_food  \n",
       "1    so i'm curious how they make the cream i had t...                \n",
       "34   really cheap my favorites so far are the match...                \n",
       "70   so its definitely a place where you can chat w...                \n",
       "84   i got their hibiscus lemonade which was a deli...                \n",
       "103  the flavors were more mild but they melded tog...                "
      ]
     },
     "execution_count": 26,
     "metadata": {},
     "output_type": "execute_result"
    }
   ],
   "source": [
    "df_nbc[df_nbc['mentions_misc_drinks'] != '']"
   ]
  },
  {
   "cell_type": "code",
   "execution_count": null,
   "metadata": {},
   "outputs": [],
   "source": []
  },
  {
   "cell_type": "code",
   "execution_count": null,
   "metadata": {},
   "outputs": [],
   "source": []
  }
 ],
 "metadata": {
  "kernelspec": {
   "display_name": "Python 3",
   "language": "python",
   "name": "python3"
  },
  "language_info": {
   "codemirror_mode": {
    "name": "ipython",
    "version": 3
   },
   "file_extension": ".py",
   "mimetype": "text/x-python",
   "name": "python",
   "nbconvert_exporter": "python",
   "pygments_lexer": "ipython3",
   "version": "3.7.7"
  }
 },
 "nbformat": 4,
 "nbformat_minor": 4
}
