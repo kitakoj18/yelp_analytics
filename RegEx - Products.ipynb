{
 "cells": [
  {
   "cell_type": "code",
   "execution_count": 1,
   "metadata": {},
   "outputs": [],
   "source": [
    "import pandas as pd\n",
    "\n",
    "import re"
   ]
  },
  {
   "cell_type": "code",
   "execution_count": 23,
   "metadata": {},
   "outputs": [],
   "source": [
    "s = ['I love the greentea here', 'I love the green tea here', 'I do not like the tea at this place!','I love it here'\n",
    "    , 'The matcha tea is delicious', 'I would get the matchatea again', 'My favorite color is green']"
   ]
  },
  {
   "cell_type": "code",
   "execution_count": 45,
   "metadata": {},
   "outputs": [
    {
     "name": "stdout",
     "output_type": "stream",
     "text": [
      "matches for sentence: 0\n",
      "[('green', 'tea')]\n",
      "1\n",
      "\n",
      "\n",
      "matches for sentence: 1\n",
      "[('green', 'tea')]\n",
      "1\n",
      "\n",
      "\n",
      "matches for sentence: 2\n",
      "[('', 'tea')]\n",
      "1\n",
      "\n",
      "\n",
      "matches for sentence: 3\n",
      "[]\n",
      "0\n",
      "\n",
      "\n",
      "matches for sentence: 4\n",
      "[('matcha', 'tea')]\n",
      "1\n",
      "\n",
      "\n",
      "matches for sentence: 5\n",
      "[('matcha', 'tea')]\n",
      "1\n",
      "\n",
      "\n",
      "matches for sentence: 6\n",
      "[]\n",
      "0\n",
      "\n",
      "\n"
     ]
    }
   ],
   "source": [
    "pattern = '(green|matcha)? ?(tea)'\n",
    "for i, sent in enumerate(s):\n",
    "    print('matches for sentence: ' + str(i))\n",
    "    print(re.findall(pattern, sent))\n",
    "    print(len(re.findall(pattern, sent)))\n",
    "    print('\\n')"
   ]
  },
  {
   "cell_type": "code",
   "execution_count": 41,
   "metadata": {},
   "outputs": [],
   "source": [
    "s2 = ['Last time I came here, I got the chicken sandwich and it was awesome!', 'I really like the avocado sandwich'\n",
    "     , 'I enjoy the coffee here']"
   ]
  },
  {
   "cell_type": "code",
   "execution_count": 42,
   "metadata": {},
   "outputs": [
    {
     "name": "stdout",
     "output_type": "stream",
     "text": [
      "matches for sentence: 0\n",
      "[('chicken', ' ', 'sandwich')]\n",
      "1\n",
      "\n",
      "\n",
      "matches for sentence: 1\n",
      "[('avocado', ' ', 'sandwich')]\n",
      "1\n",
      "\n",
      "\n",
      "matches for sentence: 2\n",
      "[]\n",
      "0\n",
      "\n",
      "\n"
     ]
    }
   ],
   "source": [
    "pattern = '(chicken|avocado)?(\\s)?(sandwich)'\n",
    "for i, sent in enumerate(s2):\n",
    "    print('matches for sentence: ' + str(i))\n",
    "    print(re.findall(pattern, sent))\n",
    "    print(len(re.findall(pattern, sent)))\n",
    "    print('\\n')"
   ]
  },
  {
   "cell_type": "code",
   "execution_count": 44,
   "metadata": {},
   "outputs": [],
   "source": [
    "import spacy\n",
    "\n",
    "nlp = spacy.load('en_core_web_sm')"
   ]
  },
  {
   "cell_type": "code",
   "execution_count": 48,
   "metadata": {},
   "outputs": [
    {
     "name": "stdout",
     "output_type": "stream",
     "text": [
      "match for sent: 0\n",
      "found match:  greentea\n",
      "sentence:  I love the greentea here\n",
      "match for sent: 1\n",
      "found match:  green tea\n",
      "sentence:  I love the green tea here\n",
      "match for sent: 4\n",
      "found match:  matcha tea\n",
      "sentence:  The matcha tea is delicious\n",
      "match for sent: 5\n",
      "found match:  matchatea\n",
      "sentence:  I would get the matchatea again\n"
     ]
    }
   ],
   "source": [
    "for i, sent in enumerate(s):\n",
    "    doc = nlp(sent)\n",
    "    for match in re.finditer(pattern, sent):\n",
    "        start, end = match.span()\n",
    "        span = doc.char_span(start, end)\n",
    "        \n",
    "        if span is not None:\n",
    "            print('match for sent: ' + str(i))\n",
    "            print('found match: ', span.text)\n",
    "            print('sentence: ', span.sent)"
   ]
  },
  {
   "cell_type": "code",
   "execution_count": null,
   "metadata": {},
   "outputs": [],
   "source": []
  }
 ],
 "metadata": {
  "kernelspec": {
   "display_name": "Python 3",
   "language": "python",
   "name": "python3"
  },
  "language_info": {
   "codemirror_mode": {
    "name": "ipython",
    "version": 3
   },
   "file_extension": ".py",
   "mimetype": "text/x-python",
   "name": "python",
   "nbconvert_exporter": "python",
   "pygments_lexer": "ipython3",
   "version": "3.7.7"
  }
 },
 "nbformat": 4,
 "nbformat_minor": 4
}
