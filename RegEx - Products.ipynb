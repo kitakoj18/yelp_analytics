{
 "cells": [
  {
   "cell_type": "code",
   "execution_count": 2,
   "metadata": {},
   "outputs": [],
   "source": [
    "import pandas as pd\n",
    "\n",
    "import re"
   ]
  },
  {
   "cell_type": "code",
   "execution_count": 7,
   "metadata": {},
   "outputs": [],
   "source": [
    "s = ['I love the greentea here', 'The green tea here is amazing', 'I do not like the tea at this place!','I love it here'\n",
    "    , 'The matcha tea is delicious', 'I would get the matchatea again', 'My favorite color is green', 'get the matcha']"
   ]
  },
  {
   "cell_type": "code",
   "execution_count": 223,
   "metadata": {},
   "outputs": [
    {
     "name": "stdout",
     "output_type": "stream",
     "text": [
      "matches for sentence: 0\n",
      "[('green', 'tea')]\n",
      "1\n",
      "\n",
      "\n",
      "matches for sentence: 1\n",
      "[('green', 'tea')]\n",
      "1\n",
      "\n",
      "\n",
      "matches for sentence: 2\n",
      "[('', 'tea')]\n",
      "1\n",
      "\n",
      "\n",
      "matches for sentence: 3\n",
      "[]\n",
      "0\n",
      "\n",
      "\n",
      "matches for sentence: 4\n",
      "[('matcha', 'tea')]\n",
      "1\n",
      "\n",
      "\n",
      "matches for sentence: 5\n",
      "[('matcha', 'tea')]\n",
      "1\n",
      "\n",
      "\n",
      "matches for sentence: 6\n",
      "[]\n",
      "0\n",
      "\n",
      "\n",
      "matches for sentence: 7\n",
      "[]\n",
      "0\n",
      "\n",
      "\n"
     ]
    }
   ],
   "source": [
    "pattern = '(green|matcha)? ?(tea)'\n",
    "for i, sent in enumerate(s):\n",
    "    print('matches for sentence: ' + str(i))\n",
    "    print(re.findall(pattern, sent))\n",
    "    print(len(re.findall(pattern, sent)))\n",
    "    print('\\n')"
   ]
  },
  {
   "cell_type": "code",
   "execution_count": 14,
   "metadata": {},
   "outputs": [],
   "source": [
    "s2 = ['Last time I came here, I got the chicken sandwich and it was awesome!', 'I really like the avocado sandwich'\n",
    "     , 'I enjoy the coffee here']"
   ]
  },
  {
   "cell_type": "code",
   "execution_count": 50,
   "metadata": {},
   "outputs": [
    {
     "name": "stdout",
     "output_type": "stream",
     "text": [
      "matches for sentence: 0\n",
      "[('chicken', ' ', 'sandwich')]\n",
      "1\n",
      "\n",
      "\n",
      "matches for sentence: 1\n",
      "[('avocado', ' ', 'sandwich')]\n",
      "1\n",
      "\n",
      "\n",
      "matches for sentence: 2\n",
      "[]\n",
      "0\n",
      "\n",
      "\n"
     ]
    }
   ],
   "source": [
    "pattern = '(chicken|avocado)?(\\s)?(sandwich)'\n",
    "for i, sent in enumerate(s2):\n",
    "    print('matches for sentence: ' + str(i))\n",
    "    print(re.findall(pattern, sent))\n",
    "    print(len(re.findall(pattern, sent)))\n",
    "    print('\\n')"
   ]
  },
  {
   "cell_type": "code",
   "execution_count": 3,
   "metadata": {},
   "outputs": [],
   "source": [
    "import spacy\n",
    "\n",
    "nlp = spacy.load('en_core_web_sm')"
   ]
  },
  {
   "cell_type": "markdown",
   "metadata": {},
   "source": [
    "Using the findall function above matches single words to the patterns we're searching for - that is why it returns a list of words that match the patterns. Instead, below uses finditer function that returns a MatchObject, which contains the span of the text that matches the pattern if the pattern applies to not just one word but a chunk of the text."
   ]
  },
  {
   "cell_type": "code",
   "execution_count": 8,
   "metadata": {},
   "outputs": [],
   "source": [
    "def print_matches(s, pattern):\n",
    "\n",
    "    for i, sent in enumerate(s):\n",
    "        doc = nlp(sent)\n",
    "        for match in re.finditer(pattern, sent):\n",
    "            start, end = match.span()\n",
    "            span = doc.char_span(start, end)\n",
    "\n",
    "            if span is not None:\n",
    "                print('match for sent: ' + str(i))\n",
    "                print('found match: ', span.text)\n",
    "                print('sentence: ', span.sent)"
   ]
  },
  {
   "cell_type": "code",
   "execution_count": 6,
   "metadata": {},
   "outputs": [],
   "source": [
    "lattes = ['I love the latte because it is so delicious', 'I got the matcha and it was amazing!', 'hello'\n",
    "          , 'Going to get the charcoal latte', 'Their latte is great.', 'Love the matcha']"
   ]
  },
  {
   "cell_type": "code",
   "execution_count": 181,
   "metadata": {},
   "outputs": [
    {
     "data": {
      "text/plain": []
     },
     "execution_count": 181,
     "metadata": {},
     "output_type": "execute_result"
    }
   ],
   "source": [
    "test_doc = nlp(lattes[4])\n",
    "test_doc[5:11]"
   ]
  },
  {
   "cell_type": "code",
   "execution_count": 182,
   "metadata": {},
   "outputs": [
    {
     "data": {
      "text/plain": [
       "Their latte is great."
      ]
     },
     "execution_count": 182,
     "metadata": {},
     "output_type": "execute_result"
    }
   ],
   "source": [
    "test_doc"
   ]
  },
  {
   "cell_type": "markdown",
   "metadata": {},
   "source": [
    "## start over with updated patterns..."
   ]
  },
  {
   "cell_type": "code",
   "execution_count": 5,
   "metadata": {},
   "outputs": [],
   "source": [
    "p1 = '(green ?|matcha ?)?(tea)'\n",
    "p2 = '(matcha ?|charcoal ?)?(latte)'"
   ]
  },
  {
   "cell_type": "code",
   "execution_count": 10,
   "metadata": {},
   "outputs": [
    {
     "data": {
      "text/plain": [
       "['I love the greentea here',\n",
       " 'The green tea here is amazing',\n",
       " 'I do not like the tea at this place!',\n",
       " 'I love it here',\n",
       " 'The matcha tea is delicious',\n",
       " 'I would get the matchatea again',\n",
       " 'My favorite color is green',\n",
       " 'get the matcha']"
      ]
     },
     "execution_count": 10,
     "metadata": {},
     "output_type": "execute_result"
    }
   ],
   "source": [
    "s"
   ]
  },
  {
   "cell_type": "code",
   "execution_count": 9,
   "metadata": {},
   "outputs": [
    {
     "name": "stdout",
     "output_type": "stream",
     "text": [
      "match for sent: 0\n",
      "found match:  greentea\n",
      "sentence:  I love the greentea here\n",
      "match for sent: 1\n",
      "found match:  green tea\n",
      "sentence:  The green tea here is amazing\n",
      "match for sent: 2\n",
      "found match:  tea\n",
      "sentence:  I do not like the tea at this place!\n",
      "match for sent: 4\n",
      "found match:  matcha tea\n",
      "sentence:  The matcha tea is delicious\n",
      "match for sent: 5\n",
      "found match:  matchatea\n",
      "sentence:  I would get the matchatea again\n"
     ]
    }
   ],
   "source": [
    "print_matches(s, p1)"
   ]
  },
  {
   "cell_type": "code",
   "execution_count": 12,
   "metadata": {},
   "outputs": [
    {
     "data": {
      "text/plain": [
       "['I love the latte because it is so delicious',\n",
       " 'I got the matcha and it was amazing!',\n",
       " 'hello',\n",
       " 'Going to get the charcoal latte',\n",
       " 'Their latte is great.',\n",
       " 'Love the matcha']"
      ]
     },
     "execution_count": 12,
     "metadata": {},
     "output_type": "execute_result"
    }
   ],
   "source": [
    "lattes"
   ]
  },
  {
   "cell_type": "code",
   "execution_count": 11,
   "metadata": {},
   "outputs": [
    {
     "name": "stdout",
     "output_type": "stream",
     "text": [
      "match for sent: 0\n",
      "found match:  latte\n",
      "sentence:  I love the latte because it is so delicious\n",
      "match for sent: 3\n",
      "found match:  charcoal latte\n",
      "sentence:  Going to get the charcoal latte\n",
      "match for sent: 4\n",
      "found match:  latte\n",
      "sentence:  Their latte is great.\n"
     ]
    }
   ],
   "source": [
    "print_matches(lattes, p2)"
   ]
  },
  {
   "cell_type": "code",
   "execution_count": 15,
   "metadata": {},
   "outputs": [],
   "source": [
    "p3 = '(chicken ?|avocado ?)?(sandwich)'"
   ]
  },
  {
   "cell_type": "code",
   "execution_count": null,
   "metadata": {},
   "outputs": [],
   "source": [
    "print_matches()"
   ]
  }
 ],
 "metadata": {
  "kernelspec": {
   "display_name": "Python 3",
   "language": "python",
   "name": "python3"
  },
  "language_info": {
   "codemirror_mode": {
    "name": "ipython",
    "version": 3
   },
   "file_extension": ".py",
   "mimetype": "text/x-python",
   "name": "python",
   "nbconvert_exporter": "python",
   "pygments_lexer": "ipython3",
   "version": "3.7.7"
  }
 },
 "nbformat": 4,
 "nbformat_minor": 4
}
